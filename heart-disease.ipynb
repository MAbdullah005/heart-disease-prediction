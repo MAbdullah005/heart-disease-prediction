{
 "cells": [
  {
   "cell_type": "code",
   "execution_count": 165,
   "id": "d2bb35f4-943a-4554-8c19-79cacb6842e0",
   "metadata": {},
   "outputs": [],
   "source": [
    "import numpy as np\n",
    "import pandas as pd\n",
    "import missingno as msno\n",
    "from statsmodels.graphics.mosaicplot import mosaic\n",
    "import seaborn as sns # Data visualization \n",
    "import matplotlib.pyplot as plt # Data visualization \n",
    "import scipy.stats as stats\n",
    "from sklearn.linear_model import LogisticRegression\n",
    "from sklearn.preprocessing import StandardScaler , LabelEncoder\n",
    "from sklearn.model_selection import train_test_split, GridSearchCV,cross_val_score\n",
    "from sklearn.metrics import confusion_matrix,accuracy_score ,classification_report\n",
    "from sklearn.metrics import roc_auc_score,roc_curve\n",
    "from sklearn.naive_bayes import GaussianNB\n",
    "from sklearn.svm import SVC\n",
    "from xgboost import XGBClassifier\n",
    "from collections import Counter\n",
    "from sklearn.ensemble import RandomForestClassifier\n",
    "from imblearn.over_sampling import SMOTE\n",
    "\n",
    "from warnings import filterwarnings\n",
    "filterwarnings('ignore')"
   ]
  },
  {
   "cell_type": "code",
   "execution_count": 2,
   "id": "f8120f5f-4520-4e6f-ad97-1595c5048784",
   "metadata": {},
   "outputs": [],
   "source": [
    "heart_diases=pd.read_csv('Heart1.csv')\n",
    "df=heart_diases.copy()"
   ]
  },
  {
   "cell_type": "code",
   "execution_count": 3,
   "id": "0680e7c3-9387-4a41-a4d4-499671eb7307",
   "metadata": {},
   "outputs": [
    {
     "data": {
      "text/html": [
       "<div>\n",
       "<style scoped>\n",
       "    .dataframe tbody tr th:only-of-type {\n",
       "        vertical-align: middle;\n",
       "    }\n",
       "\n",
       "    .dataframe tbody tr th {\n",
       "        vertical-align: top;\n",
       "    }\n",
       "\n",
       "    .dataframe thead th {\n",
       "        text-align: right;\n",
       "    }\n",
       "</style>\n",
       "<table border=\"1\" class=\"dataframe\">\n",
       "  <thead>\n",
       "    <tr style=\"text-align: right;\">\n",
       "      <th></th>\n",
       "      <th>Age</th>\n",
       "      <th>Gender</th>\n",
       "      <th>Blood Pressure</th>\n",
       "      <th>Cholesterol Level</th>\n",
       "      <th>Exercise Habits</th>\n",
       "      <th>Smoking</th>\n",
       "      <th>Family Heart Disease</th>\n",
       "      <th>Diabetes</th>\n",
       "      <th>BMI</th>\n",
       "      <th>High Blood Pressure</th>\n",
       "      <th>...</th>\n",
       "      <th>High LDL Cholesterol</th>\n",
       "      <th>Alcohol Consumption</th>\n",
       "      <th>Stress Level</th>\n",
       "      <th>Sleep Hours</th>\n",
       "      <th>Sugar Consumption</th>\n",
       "      <th>Triglyceride Level</th>\n",
       "      <th>Fasting Blood Sugar</th>\n",
       "      <th>CRP Level</th>\n",
       "      <th>Homocysteine Level</th>\n",
       "      <th>Heart Disease Status</th>\n",
       "    </tr>\n",
       "  </thead>\n",
       "  <tbody>\n",
       "    <tr>\n",
       "      <th>0</th>\n",
       "      <td>56.0</td>\n",
       "      <td>Male</td>\n",
       "      <td>153.0</td>\n",
       "      <td>155.0</td>\n",
       "      <td>High</td>\n",
       "      <td>Yes</td>\n",
       "      <td>Yes</td>\n",
       "      <td>No</td>\n",
       "      <td>24.991591</td>\n",
       "      <td>Yes</td>\n",
       "      <td>...</td>\n",
       "      <td>No</td>\n",
       "      <td>High</td>\n",
       "      <td>Medium</td>\n",
       "      <td>7.633228</td>\n",
       "      <td>Medium</td>\n",
       "      <td>342.0</td>\n",
       "      <td>NaN</td>\n",
       "      <td>12.969246</td>\n",
       "      <td>12.387250</td>\n",
       "      <td>No</td>\n",
       "    </tr>\n",
       "    <tr>\n",
       "      <th>1</th>\n",
       "      <td>69.0</td>\n",
       "      <td>Female</td>\n",
       "      <td>146.0</td>\n",
       "      <td>286.0</td>\n",
       "      <td>High</td>\n",
       "      <td>No</td>\n",
       "      <td>Yes</td>\n",
       "      <td>Yes</td>\n",
       "      <td>25.221799</td>\n",
       "      <td>No</td>\n",
       "      <td>...</td>\n",
       "      <td>No</td>\n",
       "      <td>Medium</td>\n",
       "      <td>High</td>\n",
       "      <td>8.744034</td>\n",
       "      <td>Medium</td>\n",
       "      <td>133.0</td>\n",
       "      <td>157.0</td>\n",
       "      <td>9.355389</td>\n",
       "      <td>19.298875</td>\n",
       "      <td>No</td>\n",
       "    </tr>\n",
       "    <tr>\n",
       "      <th>2</th>\n",
       "      <td>46.0</td>\n",
       "      <td>Male</td>\n",
       "      <td>126.0</td>\n",
       "      <td>216.0</td>\n",
       "      <td>Low</td>\n",
       "      <td>No</td>\n",
       "      <td>No</td>\n",
       "      <td>No</td>\n",
       "      <td>29.855447</td>\n",
       "      <td>No</td>\n",
       "      <td>...</td>\n",
       "      <td>Yes</td>\n",
       "      <td>Low</td>\n",
       "      <td>Low</td>\n",
       "      <td>4.440440</td>\n",
       "      <td>Low</td>\n",
       "      <td>393.0</td>\n",
       "      <td>92.0</td>\n",
       "      <td>12.709873</td>\n",
       "      <td>11.230926</td>\n",
       "      <td>No</td>\n",
       "    </tr>\n",
       "    <tr>\n",
       "      <th>3</th>\n",
       "      <td>32.0</td>\n",
       "      <td>Female</td>\n",
       "      <td>122.0</td>\n",
       "      <td>293.0</td>\n",
       "      <td>High</td>\n",
       "      <td>Yes</td>\n",
       "      <td>Yes</td>\n",
       "      <td>No</td>\n",
       "      <td>24.130477</td>\n",
       "      <td>Yes</td>\n",
       "      <td>...</td>\n",
       "      <td>Yes</td>\n",
       "      <td>Low</td>\n",
       "      <td>High</td>\n",
       "      <td>5.249405</td>\n",
       "      <td>High</td>\n",
       "      <td>293.0</td>\n",
       "      <td>94.0</td>\n",
       "      <td>12.509046</td>\n",
       "      <td>5.961958</td>\n",
       "      <td>No</td>\n",
       "    </tr>\n",
       "    <tr>\n",
       "      <th>4</th>\n",
       "      <td>60.0</td>\n",
       "      <td>Male</td>\n",
       "      <td>166.0</td>\n",
       "      <td>242.0</td>\n",
       "      <td>Low</td>\n",
       "      <td>Yes</td>\n",
       "      <td>Yes</td>\n",
       "      <td>Yes</td>\n",
       "      <td>20.486289</td>\n",
       "      <td>Yes</td>\n",
       "      <td>...</td>\n",
       "      <td>No</td>\n",
       "      <td>Low</td>\n",
       "      <td>High</td>\n",
       "      <td>7.030971</td>\n",
       "      <td>High</td>\n",
       "      <td>263.0</td>\n",
       "      <td>154.0</td>\n",
       "      <td>10.381259</td>\n",
       "      <td>8.153887</td>\n",
       "      <td>No</td>\n",
       "    </tr>\n",
       "  </tbody>\n",
       "</table>\n",
       "<p>5 rows × 21 columns</p>\n",
       "</div>"
      ],
      "text/plain": [
       "    Age  Gender  Blood Pressure  Cholesterol Level Exercise Habits Smoking  \\\n",
       "0  56.0    Male           153.0              155.0            High     Yes   \n",
       "1  69.0  Female           146.0              286.0            High      No   \n",
       "2  46.0    Male           126.0              216.0             Low      No   \n",
       "3  32.0  Female           122.0              293.0            High     Yes   \n",
       "4  60.0    Male           166.0              242.0             Low     Yes   \n",
       "\n",
       "  Family Heart Disease Diabetes        BMI High Blood Pressure  ...  \\\n",
       "0                  Yes       No  24.991591                 Yes  ...   \n",
       "1                  Yes      Yes  25.221799                  No  ...   \n",
       "2                   No       No  29.855447                  No  ...   \n",
       "3                  Yes       No  24.130477                 Yes  ...   \n",
       "4                  Yes      Yes  20.486289                 Yes  ...   \n",
       "\n",
       "  High LDL Cholesterol Alcohol Consumption Stress Level Sleep Hours  \\\n",
       "0                   No                High       Medium    7.633228   \n",
       "1                   No              Medium         High    8.744034   \n",
       "2                  Yes                 Low          Low    4.440440   \n",
       "3                  Yes                 Low         High    5.249405   \n",
       "4                   No                 Low         High    7.030971   \n",
       "\n",
       "   Sugar Consumption Triglyceride Level  Fasting Blood Sugar  CRP Level  \\\n",
       "0             Medium              342.0                  NaN  12.969246   \n",
       "1             Medium              133.0                157.0   9.355389   \n",
       "2                Low              393.0                 92.0  12.709873   \n",
       "3               High              293.0                 94.0  12.509046   \n",
       "4               High              263.0                154.0  10.381259   \n",
       "\n",
       "   Homocysteine Level  Heart Disease Status  \n",
       "0           12.387250                    No  \n",
       "1           19.298875                    No  \n",
       "2           11.230926                    No  \n",
       "3            5.961958                    No  \n",
       "4            8.153887                    No  \n",
       "\n",
       "[5 rows x 21 columns]"
      ]
     },
     "execution_count": 3,
     "metadata": {},
     "output_type": "execute_result"
    }
   ],
   "source": [
    "df.head(5)"
   ]
  },
  {
   "cell_type": "code",
   "execution_count": 4,
   "id": "19c59d4f-f953-4262-9e2e-6ad4b8eb7fda",
   "metadata": {},
   "outputs": [
    {
     "data": {
      "text/plain": [
       "Age                     float64\n",
       "Gender                   object\n",
       "Blood Pressure          float64\n",
       "Cholesterol Level       float64\n",
       "Exercise Habits          object\n",
       "Smoking                  object\n",
       "Family Heart Disease     object\n",
       "Diabetes                 object\n",
       "BMI                     float64\n",
       "High Blood Pressure      object\n",
       "Low HDL Cholesterol      object\n",
       "High LDL Cholesterol     object\n",
       "Alcohol Consumption      object\n",
       "Stress Level             object\n",
       "Sleep Hours             float64\n",
       "Sugar Consumption        object\n",
       "Triglyceride Level      float64\n",
       "Fasting Blood Sugar     float64\n",
       "CRP Level               float64\n",
       "Homocysteine Level      float64\n",
       "Heart Disease Status     object\n",
       "dtype: object"
      ]
     },
     "execution_count": 4,
     "metadata": {},
     "output_type": "execute_result"
    }
   ],
   "source": [
    "df.dtypes"
   ]
  },
  {
   "cell_type": "code",
   "execution_count": 18,
   "id": "019ee970-ee81-42ad-ab66-61a48d5e093d",
   "metadata": {},
   "outputs": [
    {
     "data": {
      "text/plain": [
       "Index(['Age', 'Gender', 'Blood Pressure', 'Cholesterol Level',\n",
       "       'Exercise Habits', 'Smoking', 'Family Heart Disease', 'Diabetes', 'BMI',\n",
       "       'High Blood Pressure', 'Low HDL Cholesterol', 'High LDL Cholesterol',\n",
       "       'Alcohol Consumption', 'Stress Level', 'Sleep Hours',\n",
       "       'Sugar Consumption', 'Triglyceride Level', 'Fasting Blood Sugar',\n",
       "       'CRP Level', 'Homocysteine Level', 'Heart Disease Status'],\n",
       "      dtype='object')"
      ]
     },
     "execution_count": 18,
     "metadata": {},
     "output_type": "execute_result"
    }
   ],
   "source": [
    "df.columns"
   ]
  },
  {
   "cell_type": "code",
   "execution_count": 5,
   "id": "1dee9a85-fe73-4828-b8de-fd277670beb2",
   "metadata": {},
   "outputs": [
    {
     "data": {
      "text/html": [
       "<div>\n",
       "<style scoped>\n",
       "    .dataframe tbody tr th:only-of-type {\n",
       "        vertical-align: middle;\n",
       "    }\n",
       "\n",
       "    .dataframe tbody tr th {\n",
       "        vertical-align: top;\n",
       "    }\n",
       "\n",
       "    .dataframe thead th {\n",
       "        text-align: right;\n",
       "    }\n",
       "</style>\n",
       "<table border=\"1\" class=\"dataframe\">\n",
       "  <thead>\n",
       "    <tr style=\"text-align: right;\">\n",
       "      <th></th>\n",
       "      <th>Low HDL Cholesterol</th>\n",
       "    </tr>\n",
       "  </thead>\n",
       "  <tbody>\n",
       "    <tr>\n",
       "      <th>0</th>\n",
       "      <td>Yes</td>\n",
       "    </tr>\n",
       "    <tr>\n",
       "      <th>1</th>\n",
       "      <td>Yes</td>\n",
       "    </tr>\n",
       "    <tr>\n",
       "      <th>2</th>\n",
       "      <td>Yes</td>\n",
       "    </tr>\n",
       "    <tr>\n",
       "      <th>3</th>\n",
       "      <td>No</td>\n",
       "    </tr>\n",
       "    <tr>\n",
       "      <th>4</th>\n",
       "      <td>No</td>\n",
       "    </tr>\n",
       "  </tbody>\n",
       "</table>\n",
       "</div>"
      ],
      "text/plain": [
       "  Low HDL Cholesterol\n",
       "0                 Yes\n",
       "1                 Yes\n",
       "2                 Yes\n",
       "3                  No\n",
       "4                  No"
      ]
     },
     "execution_count": 5,
     "metadata": {},
     "output_type": "execute_result"
    }
   ],
   "source": [
    "df.iloc[:5,10:11] # invisible coloums"
   ]
  },
  {
   "cell_type": "code",
   "execution_count": 6,
   "id": "0b3d9c96-ab55-46b9-bd1c-a39b4f4ec536",
   "metadata": {},
   "outputs": [
    {
     "data": {
      "text/html": [
       "<div>\n",
       "<style scoped>\n",
       "    .dataframe tbody tr th:only-of-type {\n",
       "        vertical-align: middle;\n",
       "    }\n",
       "\n",
       "    .dataframe tbody tr th {\n",
       "        vertical-align: top;\n",
       "    }\n",
       "\n",
       "    .dataframe thead th {\n",
       "        text-align: right;\n",
       "    }\n",
       "</style>\n",
       "<table border=\"1\" class=\"dataframe\">\n",
       "  <thead>\n",
       "    <tr style=\"text-align: right;\">\n",
       "      <th></th>\n",
       "      <th>count</th>\n",
       "      <th>mean</th>\n",
       "      <th>std</th>\n",
       "      <th>min</th>\n",
       "      <th>25%</th>\n",
       "      <th>50%</th>\n",
       "      <th>75%</th>\n",
       "      <th>max</th>\n",
       "    </tr>\n",
       "  </thead>\n",
       "  <tbody>\n",
       "    <tr>\n",
       "      <th>Age</th>\n",
       "      <td>9971.0</td>\n",
       "      <td>49.296259</td>\n",
       "      <td>18.193970</td>\n",
       "      <td>18.000000</td>\n",
       "      <td>34.000000</td>\n",
       "      <td>49.000000</td>\n",
       "      <td>65.000000</td>\n",
       "      <td>80.000000</td>\n",
       "    </tr>\n",
       "    <tr>\n",
       "      <th>Blood Pressure</th>\n",
       "      <td>9981.0</td>\n",
       "      <td>149.757740</td>\n",
       "      <td>17.572969</td>\n",
       "      <td>120.000000</td>\n",
       "      <td>134.000000</td>\n",
       "      <td>150.000000</td>\n",
       "      <td>165.000000</td>\n",
       "      <td>180.000000</td>\n",
       "    </tr>\n",
       "    <tr>\n",
       "      <th>Cholesterol Level</th>\n",
       "      <td>9970.0</td>\n",
       "      <td>225.425577</td>\n",
       "      <td>43.575809</td>\n",
       "      <td>150.000000</td>\n",
       "      <td>187.000000</td>\n",
       "      <td>226.000000</td>\n",
       "      <td>263.000000</td>\n",
       "      <td>300.000000</td>\n",
       "    </tr>\n",
       "    <tr>\n",
       "      <th>BMI</th>\n",
       "      <td>9978.0</td>\n",
       "      <td>29.077269</td>\n",
       "      <td>6.307098</td>\n",
       "      <td>18.002837</td>\n",
       "      <td>23.658075</td>\n",
       "      <td>29.079492</td>\n",
       "      <td>34.520015</td>\n",
       "      <td>39.996954</td>\n",
       "    </tr>\n",
       "    <tr>\n",
       "      <th>Sleep Hours</th>\n",
       "      <td>9975.0</td>\n",
       "      <td>6.991329</td>\n",
       "      <td>1.753195</td>\n",
       "      <td>4.000605</td>\n",
       "      <td>5.449866</td>\n",
       "      <td>7.003252</td>\n",
       "      <td>8.531577</td>\n",
       "      <td>9.999952</td>\n",
       "    </tr>\n",
       "    <tr>\n",
       "      <th>Triglyceride Level</th>\n",
       "      <td>9974.0</td>\n",
       "      <td>250.734409</td>\n",
       "      <td>87.067226</td>\n",
       "      <td>100.000000</td>\n",
       "      <td>176.000000</td>\n",
       "      <td>250.000000</td>\n",
       "      <td>326.000000</td>\n",
       "      <td>400.000000</td>\n",
       "    </tr>\n",
       "    <tr>\n",
       "      <th>Fasting Blood Sugar</th>\n",
       "      <td>9978.0</td>\n",
       "      <td>120.142213</td>\n",
       "      <td>23.584011</td>\n",
       "      <td>80.000000</td>\n",
       "      <td>99.000000</td>\n",
       "      <td>120.000000</td>\n",
       "      <td>141.000000</td>\n",
       "      <td>160.000000</td>\n",
       "    </tr>\n",
       "    <tr>\n",
       "      <th>CRP Level</th>\n",
       "      <td>9974.0</td>\n",
       "      <td>7.472201</td>\n",
       "      <td>4.340248</td>\n",
       "      <td>0.003647</td>\n",
       "      <td>3.674126</td>\n",
       "      <td>7.472164</td>\n",
       "      <td>11.255592</td>\n",
       "      <td>14.997087</td>\n",
       "    </tr>\n",
       "    <tr>\n",
       "      <th>Homocysteine Level</th>\n",
       "      <td>9980.0</td>\n",
       "      <td>12.456271</td>\n",
       "      <td>4.323426</td>\n",
       "      <td>5.000236</td>\n",
       "      <td>8.723334</td>\n",
       "      <td>12.409395</td>\n",
       "      <td>16.140564</td>\n",
       "      <td>19.999037</td>\n",
       "    </tr>\n",
       "  </tbody>\n",
       "</table>\n",
       "</div>"
      ],
      "text/plain": [
       "                      count        mean        std         min         25%  \\\n",
       "Age                  9971.0   49.296259  18.193970   18.000000   34.000000   \n",
       "Blood Pressure       9981.0  149.757740  17.572969  120.000000  134.000000   \n",
       "Cholesterol Level    9970.0  225.425577  43.575809  150.000000  187.000000   \n",
       "BMI                  9978.0   29.077269   6.307098   18.002837   23.658075   \n",
       "Sleep Hours          9975.0    6.991329   1.753195    4.000605    5.449866   \n",
       "Triglyceride Level   9974.0  250.734409  87.067226  100.000000  176.000000   \n",
       "Fasting Blood Sugar  9978.0  120.142213  23.584011   80.000000   99.000000   \n",
       "CRP Level            9974.0    7.472201   4.340248    0.003647    3.674126   \n",
       "Homocysteine Level   9980.0   12.456271   4.323426    5.000236    8.723334   \n",
       "\n",
       "                            50%         75%         max  \n",
       "Age                   49.000000   65.000000   80.000000  \n",
       "Blood Pressure       150.000000  165.000000  180.000000  \n",
       "Cholesterol Level    226.000000  263.000000  300.000000  \n",
       "BMI                   29.079492   34.520015   39.996954  \n",
       "Sleep Hours            7.003252    8.531577    9.999952  \n",
       "Triglyceride Level   250.000000  326.000000  400.000000  \n",
       "Fasting Blood Sugar  120.000000  141.000000  160.000000  \n",
       "CRP Level              7.472164   11.255592   14.997087  \n",
       "Homocysteine Level    12.409395   16.140564   19.999037  "
      ]
     },
     "execution_count": 6,
     "metadata": {},
     "output_type": "execute_result"
    }
   ],
   "source": [
    "df.describe().T"
   ]
  },
  {
   "cell_type": "code",
   "execution_count": 7,
   "id": "ae1b6556-63d0-4926-8c8e-12bd2245b88c",
   "metadata": {},
   "outputs": [
    {
     "data": {
      "text/plain": [
       "(10000, 21)"
      ]
     },
     "execution_count": 7,
     "metadata": {},
     "output_type": "execute_result"
    }
   ],
   "source": [
    "df.shape"
   ]
  },
  {
   "cell_type": "markdown",
   "id": "a06e84ef-6d2e-4335-8c66-ac3b038175ee",
   "metadata": {},
   "source": [
    "### The difference b/t classes "
   ]
  },
  {
   "cell_type": "code",
   "execution_count": 8,
   "id": "fae7b2f0-9bc8-446f-80f6-56ff383d676d",
   "metadata": {},
   "outputs": [
    {
     "data": {
      "text/plain": [
       "Gender\n",
       "Male      5003\n",
       "Female    4978\n",
       "Name: count, dtype: int64"
      ]
     },
     "execution_count": 8,
     "metadata": {},
     "output_type": "execute_result"
    }
   ],
   "source": [
    "df['Gender'].value_counts()"
   ]
  },
  {
   "cell_type": "code",
   "execution_count": 9,
   "id": "9f91ae22-97ec-406a-9857-3787ddf8b267",
   "metadata": {},
   "outputs": [
    {
     "data": {
      "text/plain": [
       "Smoking\n",
       "Yes    False\n",
       "No     False\n",
       "Name: count, dtype: bool"
      ]
     },
     "execution_count": 9,
     "metadata": {},
     "output_type": "execute_result"
    }
   ],
   "source": [
    "df['Smoking'].value_counts().isnull()"
   ]
  },
  {
   "cell_type": "code",
   "execution_count": 12,
   "id": "fd5421ed-6bbd-46f9-8617-236ac4245951",
   "metadata": {},
   "outputs": [
    {
     "data": {
      "text/plain": [
       "Family Heart Disease\n",
       "No     5004\n",
       "Yes    4975\n",
       "Name: count, dtype: int64"
      ]
     },
     "execution_count": 12,
     "metadata": {},
     "output_type": "execute_result"
    }
   ],
   "source": [
    "df['Family Heart Disease'].value_counts()"
   ]
  },
  {
   "cell_type": "code",
   "execution_count": 15,
   "id": "b01ec8c3-424b-42c8-9173-34a7676fcf03",
   "metadata": {},
   "outputs": [
    {
     "data": {
      "text/plain": [
       "Stress Level\n",
       "Medium    3387\n",
       "Low       3320\n",
       "High      3271\n",
       "Name: count, dtype: int64"
      ]
     },
     "execution_count": 15,
     "metadata": {},
     "output_type": "execute_result"
    }
   ],
   "source": [
    "df[\"Stress Level\"].value_counts()"
   ]
  },
  {
   "cell_type": "markdown",
   "id": "b607f9e2-ef62-4b02-97da-b5e48a5e0115",
   "metadata": {},
   "source": [
    "## Outlier Dedection and Missing Data"
   ]
  },
  {
   "cell_type": "code",
   "execution_count": 18,
   "id": "5a382162-1a9c-4cca-bb44-848412d5a4ad",
   "metadata": {},
   "outputs": [
    {
     "data": {
      "text/plain": [
       "Age                       29\n",
       "Gender                    19\n",
       "Blood Pressure            19\n",
       "Cholesterol Level         30\n",
       "Exercise Habits           25\n",
       "Smoking                   25\n",
       "Family Heart Disease      21\n",
       "Diabetes                  30\n",
       "BMI                       22\n",
       "High Blood Pressure       26\n",
       "Low HDL Cholesterol       25\n",
       "High LDL Cholesterol      26\n",
       "Alcohol Consumption     2586\n",
       "Stress Level              22\n",
       "Sleep Hours               25\n",
       "Sugar Consumption         30\n",
       "Triglyceride Level        26\n",
       "Fasting Blood Sugar       22\n",
       "CRP Level                 26\n",
       "Homocysteine Level        20\n",
       "Heart Disease Status       0\n",
       "dtype: int64"
      ]
     },
     "execution_count": 18,
     "metadata": {},
     "output_type": "execute_result"
    }
   ],
   "source": [
    "df.isnull().sum()"
   ]
  },
  {
   "cell_type": "code",
   "execution_count": 21,
   "id": "6097e64b-8468-4b55-9de6-c2927e114ff1",
   "metadata": {},
   "outputs": [
    {
     "data": {
      "text/plain": [
       "Age                      0.29\n",
       "Gender                   0.19\n",
       "Blood Pressure           0.19\n",
       "Cholesterol Level        0.30\n",
       "Exercise Habits          0.25\n",
       "Smoking                  0.25\n",
       "Family Heart Disease     0.21\n",
       "Diabetes                 0.30\n",
       "BMI                      0.22\n",
       "High Blood Pressure      0.26\n",
       "Low HDL Cholesterol      0.25\n",
       "High LDL Cholesterol     0.26\n",
       "Alcohol Consumption     25.86\n",
       "Stress Level             0.22\n",
       "Sleep Hours              0.25\n",
       "Sugar Consumption        0.30\n",
       "Triglyceride Level       0.26\n",
       "Fasting Blood Sugar      0.22\n",
       "CRP Level                0.26\n",
       "Homocysteine Level       0.20\n",
       "Heart Disease Status     0.00\n",
       "dtype: float64"
      ]
     },
     "execution_count": 21,
     "metadata": {},
     "output_type": "execute_result"
    }
   ],
   "source": [
    "df.isnull().sum()/len(df)*100"
   ]
  },
  {
   "cell_type": "code",
   "execution_count": 22,
   "id": "d61f97a6-eda4-4b83-923b-0780001370a5",
   "metadata": {},
   "outputs": [
    {
     "data": {
      "text/plain": [
       "np.int64(3054)"
      ]
     },
     "execution_count": 22,
     "metadata": {},
     "output_type": "execute_result"
    }
   ],
   "source": [
    "# total missing value\n",
    "df.isnull().sum().sum()"
   ]
  },
  {
   "cell_type": "code",
   "execution_count": 24,
   "id": "2dc623f9-da5a-4023-b820-4d07a74fe841",
   "metadata": {},
   "outputs": [
    {
     "data": {
      "image/png": "[encoded data removed]",
      "text/plain": [
       "<Figure size 2500x1000 with 2 Axes>"
      ]
     },
     "metadata": {},
     "output_type": "display_data"
    }
   ],
   "source": [
    "msno.matrix(df);"
   ]
  },
  {
   "cell_type": "code",
   "execution_count": 25,
   "id": "60e78716-90b6-4b1e-b69f-aa66b3b4c10e",
   "metadata": {},
   "outputs": [
    {
     "data": {
      "image/png": "[encoded data removed]",
      "text/plain": [
       "<Figure size 2000x1200 with 2 Axes>"
      ]
     },
     "metadata": {},
     "output_type": "display_data"
    }
   ],
   "source": [
    "msno.heatmap(df);"
   ]
  },
  {
   "cell_type": "markdown",
   "id": "3970268c-d869-4283-bc19-b9207b6270c0",
   "metadata": {},
   "source": [
    " - Missing it is obvserved that there is no relationship between the data\n"
   ]
  },
  {
   "cell_type": "code",
   "execution_count": 26,
   "id": "3f150a3f-774e-4f76-b136-597bcff69861",
   "metadata": {},
   "outputs": [
    {
     "data": {
      "image/png": "[encoded data removed]",
      "text/plain": [
       "<Figure size 1400x800 with 1 Axes>"
      ]
     },
     "metadata": {},
     "output_type": "display_data"
    }
   ],
   "source": [
    "plt.figure(figsize=(14,8))\n",
    "sns.boxplot(df)\n",
    "plt.show()"
   ]
  },
  {
   "cell_type": "markdown",
   "id": "d68f8b31-9145-4a92-8ce0-5d6fae98ce5b",
   "metadata": {},
   "source": [
    "- There` are no outlier dedections"
   ]
  },
  {
   "cell_type": "markdown",
   "id": "f9333d9a-099c-4997-9e72-6cf18150e44f",
   "metadata": {},
   "source": [
    "## Exploratory Data Analysis"
   ]
  },
  {
   "cell_type": "code",
   "execution_count": 27,
   "id": "892a3d05-02f2-4f48-a608-6dee6a8548b9",
   "metadata": {},
   "outputs": [
    {
     "data": {
      "text/html": [
       "<div>\n",
       "<style scoped>\n",
       "    .dataframe tbody tr th:only-of-type {\n",
       "        vertical-align: middle;\n",
       "    }\n",
       "\n",
       "    .dataframe tbody tr th {\n",
       "        vertical-align: top;\n",
       "    }\n",
       "\n",
       "    .dataframe thead th {\n",
       "        text-align: right;\n",
       "    }\n",
       "</style>\n",
       "<table border=\"1\" class=\"dataframe\">\n",
       "  <thead>\n",
       "    <tr style=\"text-align: right;\">\n",
       "      <th></th>\n",
       "      <th>Age</th>\n",
       "      <th>Gender</th>\n",
       "      <th>Blood Pressure</th>\n",
       "      <th>Cholesterol Level</th>\n",
       "      <th>Exercise Habits</th>\n",
       "      <th>Smoking</th>\n",
       "      <th>Family Heart Disease</th>\n",
       "      <th>Diabetes</th>\n",
       "      <th>BMI</th>\n",
       "      <th>High Blood Pressure</th>\n",
       "      <th>...</th>\n",
       "      <th>High LDL Cholesterol</th>\n",
       "      <th>Alcohol Consumption</th>\n",
       "      <th>Stress Level</th>\n",
       "      <th>Sleep Hours</th>\n",
       "      <th>Sugar Consumption</th>\n",
       "      <th>Triglyceride Level</th>\n",
       "      <th>Fasting Blood Sugar</th>\n",
       "      <th>CRP Level</th>\n",
       "      <th>Homocysteine Level</th>\n",
       "      <th>Heart Disease Status</th>\n",
       "    </tr>\n",
       "  </thead>\n",
       "  <tbody>\n",
       "    <tr>\n",
       "      <th>0</th>\n",
       "      <td>56.0</td>\n",
       "      <td>Male</td>\n",
       "      <td>153.0</td>\n",
       "      <td>155.0</td>\n",
       "      <td>High</td>\n",
       "      <td>Yes</td>\n",
       "      <td>Yes</td>\n",
       "      <td>No</td>\n",
       "      <td>24.991591</td>\n",
       "      <td>Yes</td>\n",
       "      <td>...</td>\n",
       "      <td>No</td>\n",
       "      <td>High</td>\n",
       "      <td>Medium</td>\n",
       "      <td>7.633228</td>\n",
       "      <td>Medium</td>\n",
       "      <td>342.0</td>\n",
       "      <td>NaN</td>\n",
       "      <td>12.969246</td>\n",
       "      <td>12.387250</td>\n",
       "      <td>No</td>\n",
       "    </tr>\n",
       "    <tr>\n",
       "      <th>1</th>\n",
       "      <td>69.0</td>\n",
       "      <td>Female</td>\n",
       "      <td>146.0</td>\n",
       "      <td>286.0</td>\n",
       "      <td>High</td>\n",
       "      <td>No</td>\n",
       "      <td>Yes</td>\n",
       "      <td>Yes</td>\n",
       "      <td>25.221799</td>\n",
       "      <td>No</td>\n",
       "      <td>...</td>\n",
       "      <td>No</td>\n",
       "      <td>Medium</td>\n",
       "      <td>High</td>\n",
       "      <td>8.744034</td>\n",
       "      <td>Medium</td>\n",
       "      <td>133.0</td>\n",
       "      <td>157.0</td>\n",
       "      <td>9.355389</td>\n",
       "      <td>19.298875</td>\n",
       "      <td>No</td>\n",
       "    </tr>\n",
       "    <tr>\n",
       "      <th>2</th>\n",
       "      <td>46.0</td>\n",
       "      <td>Male</td>\n",
       "      <td>126.0</td>\n",
       "      <td>216.0</td>\n",
       "      <td>Low</td>\n",
       "      <td>No</td>\n",
       "      <td>No</td>\n",
       "      <td>No</td>\n",
       "      <td>29.855447</td>\n",
       "      <td>No</td>\n",
       "      <td>...</td>\n",
       "      <td>Yes</td>\n",
       "      <td>Low</td>\n",
       "      <td>Low</td>\n",
       "      <td>4.440440</td>\n",
       "      <td>Low</td>\n",
       "      <td>393.0</td>\n",
       "      <td>92.0</td>\n",
       "      <td>12.709873</td>\n",
       "      <td>11.230926</td>\n",
       "      <td>No</td>\n",
       "    </tr>\n",
       "    <tr>\n",
       "      <th>3</th>\n",
       "      <td>32.0</td>\n",
       "      <td>Female</td>\n",
       "      <td>122.0</td>\n",
       "      <td>293.0</td>\n",
       "      <td>High</td>\n",
       "      <td>Yes</td>\n",
       "      <td>Yes</td>\n",
       "      <td>No</td>\n",
       "      <td>24.130477</td>\n",
       "      <td>Yes</td>\n",
       "      <td>...</td>\n",
       "      <td>Yes</td>\n",
       "      <td>Low</td>\n",
       "      <td>High</td>\n",
       "      <td>5.249405</td>\n",
       "      <td>High</td>\n",
       "      <td>293.0</td>\n",
       "      <td>94.0</td>\n",
       "      <td>12.509046</td>\n",
       "      <td>5.961958</td>\n",
       "      <td>No</td>\n",
       "    </tr>\n",
       "    <tr>\n",
       "      <th>4</th>\n",
       "      <td>60.0</td>\n",
       "      <td>Male</td>\n",
       "      <td>166.0</td>\n",
       "      <td>242.0</td>\n",
       "      <td>Low</td>\n",
       "      <td>Yes</td>\n",
       "      <td>Yes</td>\n",
       "      <td>Yes</td>\n",
       "      <td>20.486289</td>\n",
       "      <td>Yes</td>\n",
       "      <td>...</td>\n",
       "      <td>No</td>\n",
       "      <td>Low</td>\n",
       "      <td>High</td>\n",
       "      <td>7.030971</td>\n",
       "      <td>High</td>\n",
       "      <td>263.0</td>\n",
       "      <td>154.0</td>\n",
       "      <td>10.381259</td>\n",
       "      <td>8.153887</td>\n",
       "      <td>No</td>\n",
       "    </tr>\n",
       "  </tbody>\n",
       "</table>\n",
       "<p>5 rows × 21 columns</p>\n",
       "</div>"
      ],
      "text/plain": [
       "    Age  Gender  Blood Pressure  Cholesterol Level Exercise Habits Smoking  \\\n",
       "0  56.0    Male           153.0              155.0            High     Yes   \n",
       "1  69.0  Female           146.0              286.0            High      No   \n",
       "2  46.0    Male           126.0              216.0             Low      No   \n",
       "3  32.0  Female           122.0              293.0            High     Yes   \n",
       "4  60.0    Male           166.0              242.0             Low     Yes   \n",
       "\n",
       "  Family Heart Disease Diabetes        BMI High Blood Pressure  ...  \\\n",
       "0                  Yes       No  24.991591                 Yes  ...   \n",
       "1                  Yes      Yes  25.221799                  No  ...   \n",
       "2                   No       No  29.855447                  No  ...   \n",
       "3                  Yes       No  24.130477                 Yes  ...   \n",
       "4                  Yes      Yes  20.486289                 Yes  ...   \n",
       "\n",
       "  High LDL Cholesterol Alcohol Consumption Stress Level Sleep Hours  \\\n",
       "0                   No                High       Medium    7.633228   \n",
       "1                   No              Medium         High    8.744034   \n",
       "2                  Yes                 Low          Low    4.440440   \n",
       "3                  Yes                 Low         High    5.249405   \n",
       "4                   No                 Low         High    7.030971   \n",
       "\n",
       "   Sugar Consumption Triglyceride Level  Fasting Blood Sugar  CRP Level  \\\n",
       "0             Medium              342.0                  NaN  12.969246   \n",
       "1             Medium              133.0                157.0   9.355389   \n",
       "2                Low              393.0                 92.0  12.709873   \n",
       "3               High              293.0                 94.0  12.509046   \n",
       "4               High              263.0                154.0  10.381259   \n",
       "\n",
       "   Homocysteine Level  Heart Disease Status  \n",
       "0           12.387250                    No  \n",
       "1           19.298875                    No  \n",
       "2           11.230926                    No  \n",
       "3            5.961958                    No  \n",
       "4            8.153887                    No  \n",
       "\n",
       "[5 rows x 21 columns]"
      ]
     },
     "execution_count": 27,
     "metadata": {},
     "output_type": "execute_result"
    }
   ],
   "source": [
    "df.head()"
   ]
  },
  {
   "cell_type": "markdown",
   "id": "2d96145a-5b6d-4e7a-8bd2-6ac66842954a",
   "metadata": {},
   "source": [
    "## The Analysis of Categorical Variables"
   ]
  },
  {
   "cell_type": "markdown",
   "id": "bcc17a02-888e-486f-aa41-6bdbd0fb4b34",
   "metadata": {},
   "source": [
    "- Which Categorical Variables are Imbalance "
   ]
  },
  {
   "cell_type": "code",
   "execution_count": 28,
   "id": "36d9bb3d-529f-497a-9a16-ea252db18c71",
   "metadata": {},
   "outputs": [
    {
     "data": {
      "text/plain": [
       "Gender                  2\n",
       "Exercise Habits         3\n",
       "Smoking                 2\n",
       "Family Heart Disease    2\n",
       "Diabetes                2\n",
       "High Blood Pressure     2\n",
       "Low HDL Cholesterol     2\n",
       "High LDL Cholesterol    2\n",
       "Alcohol Consumption     3\n",
       "Stress Level            3\n",
       "Sugar Consumption       3\n",
       "Heart Disease Status    2\n",
       "dtype: int64"
      ]
     },
     "execution_count": 28,
     "metadata": {},
     "output_type": "execute_result"
    }
   ],
   "source": [
    "cat_df = df.select_dtypes(include = [\"object\"])\n",
    "cat_df.nunique()"
   ]
  },
  {
   "cell_type": "code",
   "execution_count": 29,
   "id": "f4c19a8c-f8dd-4456-b4a6-e8a76638de48",
   "metadata": {},
   "outputs": [
    {
     "name": "stdout",
     "output_type": "stream",
     "text": [
      "Column : Gender\n",
      "Gender\n",
      "Male      5003\n",
      "Female    4978\n",
      "Name: count, dtype: int64\n",
      "\n",
      "Column : Exercise Habits\n",
      "Exercise Habits\n",
      "High      3372\n",
      "Medium    3332\n",
      "Low       3271\n",
      "Name: count, dtype: int64\n",
      "\n",
      "Column : Smoking\n",
      "Smoking\n",
      "Yes    5123\n",
      "No     4852\n",
      "Name: count, dtype: int64\n",
      "\n",
      "Column : Family Heart Disease\n",
      "Family Heart Disease\n",
      "No     5004\n",
      "Yes    4975\n",
      "Name: count, dtype: int64\n",
      "\n",
      "Column : Diabetes\n",
      "Diabetes\n",
      "No     5018\n",
      "Yes    4952\n",
      "Name: count, dtype: int64\n",
      "\n",
      "Column : High Blood Pressure\n",
      "High Blood Pressure\n",
      "Yes    5022\n",
      "No     4952\n",
      "Name: count, dtype: int64\n",
      "\n",
      "Column : Low HDL Cholesterol\n",
      "Low HDL Cholesterol\n",
      "Yes    5000\n",
      "No     4975\n",
      "Name: count, dtype: int64\n",
      "\n",
      "Column : High LDL Cholesterol\n",
      "High LDL Cholesterol\n",
      "No     5036\n",
      "Yes    4938\n",
      "Name: count, dtype: int64\n",
      "\n",
      "Column : Alcohol Consumption\n",
      "Alcohol Consumption\n",
      "Medium    2500\n",
      "Low       2488\n",
      "High      2426\n",
      "Name: count, dtype: int64\n",
      "\n",
      "Column : Stress Level\n",
      "Stress Level\n",
      "Medium    3387\n",
      "Low       3320\n",
      "High      3271\n",
      "Name: count, dtype: int64\n",
      "\n",
      "Column : Sugar Consumption\n",
      "Sugar Consumption\n",
      "Low       3390\n",
      "High      3330\n",
      "Medium    3250\n",
      "Name: count, dtype: int64\n",
      "\n",
      "Column : Heart Disease Status\n",
      "Heart Disease Status\n",
      "No     8000\n",
      "Yes    2000\n",
      "Name: count, dtype: int64\n",
      "\n"
     ]
    }
   ],
   "source": [
    "for col in cat_df.columns:\n",
    "    print(f\"Column : {col}\")\n",
    "    print(cat_df[col].value_counts(),end = \"\\n\\n\")"
   ]
  },
  {
   "cell_type": "markdown",
   "id": "9e85d68f-1a3c-4dbf-b16d-f5ab1149f280",
   "metadata": {},
   "source": [
    "### Data Set General Evaluation\n",
    "\n",
    "- In our dataset distribution of indepented values balance however target value = \"Heart Disease Status\" is imbalance this rate is %20 - %80\""
   ]
  },
  {
   "cell_type": "code",
   "execution_count": 30,
   "id": "07764027-3619-434e-993e-ffd264093b6e",
   "metadata": {},
   "outputs": [
    {
     "data": {
      "image/png": "[encoded data removed]",
      "text/plain": [
       "<Figure size 1000x600 with 1 Axes>"
      ]
     },
     "metadata": {},
     "output_type": "display_data"
    }
   ],
   "source": [
    "df.groupby(\"Smoking\")[\"Heart Disease Status\"].value_counts(normalize=True).unstack().plot(kind='bar', stacked=True, figsize=(10,6), colormap=\"Paired\")\n",
    "\n",
    "plt.title(\"Heart Disease Status by Smoking Habits (%)\")\n",
    "plt.ylabel(\"Proportion\")\n",
    "plt.xlabel(\"Smoking\")\n",
    "plt.legend(title=\"Heart Disease Status\")\n",
    "plt.show()"
   ]
  },
  {
   "cell_type": "code",
   "execution_count": 31,
   "id": "313427bd-d812-4ac8-b353-20daf61e6cd9",
   "metadata": {},
   "outputs": [
    {
     "data": {
      "text/html": [
       "<div>\n",
       "<style scoped>\n",
       "    .dataframe tbody tr th:only-of-type {\n",
       "        vertical-align: middle;\n",
       "    }\n",
       "\n",
       "    .dataframe tbody tr th {\n",
       "        vertical-align: top;\n",
       "    }\n",
       "\n",
       "    .dataframe thead th {\n",
       "        text-align: right;\n",
       "    }\n",
       "</style>\n",
       "<table border=\"1\" class=\"dataframe\">\n",
       "  <thead>\n",
       "    <tr style=\"text-align: right;\">\n",
       "      <th>Heart Disease Status</th>\n",
       "      <th>No</th>\n",
       "      <th>Yes</th>\n",
       "    </tr>\n",
       "    <tr>\n",
       "      <th>Smoking</th>\n",
       "      <th></th>\n",
       "      <th></th>\n",
       "    </tr>\n",
       "  </thead>\n",
       "  <tbody>\n",
       "    <tr>\n",
       "      <th>No</th>\n",
       "      <td>0.801113</td>\n",
       "      <td>0.198887</td>\n",
       "    </tr>\n",
       "    <tr>\n",
       "      <th>Yes</th>\n",
       "      <td>0.799141</td>\n",
       "      <td>0.200859</td>\n",
       "    </tr>\n",
       "  </tbody>\n",
       "</table>\n",
       "</div>"
      ],
      "text/plain": [
       "Heart Disease Status        No       Yes\n",
       "Smoking                                 \n",
       "No                    0.801113  0.198887\n",
       "Yes                   0.799141  0.200859"
      ]
     },
     "execution_count": 31,
     "metadata": {},
     "output_type": "execute_result"
    }
   ],
   "source": [
    "df.groupby(\"Smoking\")[\"Heart Disease Status\"].value_counts(normalize=True).unstack()"
   ]
  },
  {
   "cell_type": "markdown",
   "id": "c6ab4ce8-dc0e-40a2-a2b0-d5bc81c6e19f",
   "metadata": {},
   "source": [
    "- The countplot shows that the proportion of heart disease among smokers and non-smokers is nearly the same.\n",
    "- The grouped bar plot and stacked bar plot confirm that the difference between smokers and non-smokers in terms of heart disease is minimal.\n",
    "- According to the normalized proportions, about 20% of both smokers and non-smokers have heart disease, while 80% do not.\n",
    "- This suggests that smoking alone may not be a strong predictor of heart disease in this dataset."
   ]
  },
  {
   "cell_type": "markdown",
   "id": "80044349-8e56-45c5-911e-698953b00589",
   "metadata": {},
   "source": [
    "## Does exercise level influence heart disease?"
   ]
  },
  {
   "cell_type": "code",
   "execution_count": 32,
   "id": "ae34c878-08f1-476c-a984-96eb3b245cff",
   "metadata": {},
   "outputs": [
    {
     "data": {
      "image/png": "[encoded data removed]",
      "text/plain": [
       "<Figure size 640x480 with 1 Axes>"
      ]
     },
     "metadata": {},
     "output_type": "display_data"
    }
   ],
   "source": [
    "sns.countplot(data = df,x = \"Exercise Habits\",hue = \"Heart Disease Status\",palette = \"deep\")\n",
    "plt.show()"
   ]
  },
  {
   "cell_type": "markdown",
   "id": "b0afdbc6-201c-4f26-9595-fe8dfdd3a409",
   "metadata": {},
   "source": [
    "- The countplot shows that the proportion of heart disease cases is fairly similar across all exercise levels (High, Medium, and Low).\n",
    "- There doesn’t seem to be a clear trend suggesting that individuals who exercise more have a significantly lower risk of heart disease."
   ]
  },
  {
   "cell_type": "markdown",
   "id": "42a59573-2bbd-4905-bb41-b9ec3805645d",
   "metadata": {},
   "source": [
    "### Are individuals with a family history of heart disease at higher risk?"
   ]
  },
  {
   "cell_type": "code",
   "execution_count": 75,
   "id": "24f07e8f-82fd-4ab5-9050-6119dc7b2918",
   "metadata": {},
   "outputs": [
    {
     "data": {
      "image/png": "[encoded data removed]",
      "text/plain": [
       "<Figure size 640x480 with 3 Axes>"
      ]
     },
     "metadata": {},
     "output_type": "display_data"
    }
   ],
   "source": [
    "mosaic(data = df, index = [\"Family Heart Disease\",\"Heart Disease Status\"])\n",
    "plt.title(\"Mosaic plot of Family Heart Disease and Heart Disease Status\")\n",
    "plt.show()"
   ]
  },
  {
   "cell_type": "markdown",
   "id": "8442b21c-a802-46a8-9955-11e372009cc3",
   "metadata": {},
   "source": [
    "- The mosaic plot shows that the proportion of heart disease cases among individuals with and without a family history of heart disease is almost equal."
   ]
  },
  {
   "cell_type": "markdown",
   "id": "c96160af-8b55-4d89-a772-e28f11b4b55c",
   "metadata": {},
   "source": [
    "###  Are individuals with high stress levels more prone to heart disease?"
   ]
  },
  {
   "cell_type": "code",
   "execution_count": 69,
   "id": "a0e886a1-8283-46c5-b80b-019f2cd7737a",
   "metadata": {},
   "outputs": [
    {
     "data": {
      "image/png": "[encoded data removed]",
      "text/plain": [
       "<Figure size 640x480 with 1 Axes>"
      ]
     },
     "metadata": {},
     "output_type": "display_data"
    }
   ],
   "source": [
    "sns.countplot(data=df,x='Stress Level',hue='Heart Disease Status',palette='dark')\n",
    "plt.title(\"Heart Disease Status by stress level\")\n",
    "plt.show()"
   ]
  },
  {
   "cell_type": "code",
   "execution_count": 65,
   "id": "f7d439d7-235b-4e1b-934f-a63ad1163a2d",
   "metadata": {},
   "outputs": [
    {
     "data": {
      "image/png": "[encoded data removed]",
      "text/plain": [
       "<Figure size 511.111x500 with 1 Axes>"
      ]
     },
     "metadata": {},
     "output_type": "display_data"
    }
   ],
   "source": [
    "heart_group_age_mean = df.groupby(\"Heart Disease Status\")[\"Age\"].mean().reset_index()\n",
    "sns.catplot(data= heart_group_age_mean, x= \"Heart Disease Status\",y = \"Age\",kind = \"bar\")\n",
    "plt.ylabel(\"Avarage Age\")\n",
    "plt.show()"
   ]
  },
  {
   "cell_type": "markdown",
   "id": "5a4f8024-f3dd-4dac-b563-8a4d6bcf132b",
   "metadata": {},
   "source": [
    "## Does blood pressure affect heart disease?"
   ]
  },
  {
   "cell_type": "code",
   "execution_count": 48,
   "id": "cffb1b77-86da-4859-b46c-619ae3a21ecc",
   "metadata": {},
   "outputs": [],
   "source": [
    "grouped= df.groupby(\"Heart Disease Status\")[\"Blood Pressure\"]\n",
    "heart_disease_yes = grouped.get_group(\"Yes\")\n",
    "heart_disease_no = grouped.get_group(\"No\")\n",
    "\n",
    "heart_disease_no_sampled = heart_disease_no.sample(n=len(heart_disease_yes), random_state=42)\n",
    "yes_no = pd.DataFrame({\n",
    "    \"Yes\": heart_disease_yes.values, \n",
    "    \"No\": heart_disease_no_sampled.values\n",
    "})\n",
    "yes_no = yes_no.dropna()"
   ]
  },
  {
   "cell_type": "code",
   "execution_count": 55,
   "id": "c1b860da-9b14-44ef-bdbb-09705b1ed237",
   "metadata": {},
   "outputs": [
    {
     "name": "stdout",
     "output_type": "stream",
     "text": [
      "statistic = 0.9538, p-value = 0.0000\n",
      "statistic = 0.9525, p-value = 0.0000\n"
     ]
    }
   ],
   "source": [
    "statistic , pvalue = stats.shapiro(yes_no.Yes)\n",
    "print('statistic = %.4f, p-value = %.4f' % (statistic ,pvalue))\n",
    "\n",
    "statistic , pvalue = stats.shapiro(yes_no.No)\n",
    "print('statistic = %.4f, p-value = %.4f' % (statistic ,pvalue))"
   ]
  },
  {
   "cell_type": "code",
   "execution_count": 76,
   "id": "bd559827-0b2d-4cd5-8c62-bc5be13d3865",
   "metadata": {},
   "outputs": [
    {
     "data": {
      "image/png": "[encoded data removed]",
      "text/plain": [
       "<Figure size 640x480 with 1 Axes>"
      ]
     },
     "metadata": {},
     "output_type": "display_data"
    }
   ],
   "source": [
    "sns.boxplot(data = df, x= \"Heart Disease Status\",y=\"Blood Pressure\")\n",
    "plt.show()"
   ]
  },
  {
   "cell_type": "markdown",
   "id": "7a45ffca-b7ef-4c10-a193-4619a866906d",
   "metadata": {},
   "source": [
    "### Exploratory Analysis:\n",
    "\n",
    "- A boxplot was created to visualize the distribution of blood pressure across individuals with and without heart disease.\n",
    "- The boxplot suggests that there is no significant difference in blood pressure levels between the two groups. The median and interquartile ranges appear to be nearly identical."
   ]
  },
  {
   "cell_type": "markdown",
   "id": "b4abab52-b26e-4f68-a29f-9466ded87fb1",
   "metadata": {},
   "source": [
    "## Correlation Analysis"
   ]
  },
  {
   "cell_type": "code",
   "execution_count": 77,
   "id": "fa463d5e-469b-499f-90fc-5b5b71a7e030",
   "metadata": {},
   "outputs": [],
   "source": [
    "num_col= [\"Age\",\"Blood Pressure\",\"Cholesterol Level\",\"BMI\",\"Sleep Hours\",\"Triglyceride Level\",\"Fasting Blood Sugar\",\"CRP Level\",\"Homocysteine Level\"]"
   ]
  },
  {
   "cell_type": "code",
   "execution_count": 78,
   "id": "05b33414-f52a-4acf-92da-e2f0dc2f02a4",
   "metadata": {},
   "outputs": [
    {
     "data": {
      "image/png": "[encoded data removed]",
      "text/plain": [
       "<Figure size 1200x800 with 2 Axes>"
      ]
     },
     "metadata": {},
     "output_type": "display_data"
    }
   ],
   "source": [
    "corr_df = df[num_col].corr()\n",
    "plt.figure(figsize =(12,8))\n",
    "sns.heatmap(corr_df,cmap =\"crest\")\n",
    "plt.title(\"Matrix of Correlation\")\n",
    "plt.show()"
   ]
  },
  {
   "cell_type": "markdown",
   "id": "743bfe3b-4495-46df-97a6-86b58a402ab3",
   "metadata": {},
   "source": [
    "### Correlation Matrix:\n",
    "\n",
    "- No significant correlation is observed between the variables. There is no clear linear relationship between any pair of variables"
   ]
  },
  {
   "cell_type": "markdown",
   "id": "94fcf79f-51aa-4c76-a405-60cdabee2ba0",
   "metadata": {},
   "source": [
    "## Train Test Split"
   ]
  },
  {
   "cell_type": "code",
   "execution_count": 94,
   "id": "311f5fd6-4dcc-4539-8e00-95f95e2f94ba",
   "metadata": {},
   "outputs": [],
   "source": [
    "x=df.drop(['Heart Disease Status'],axis=1)\n",
    "y=df['Heart Disease Status']\n",
    "x_train,x_test,y_train,y_test=train_test_split(x,y,test_size=0.20,random_state=42)"
   ]
  },
  {
   "cell_type": "code",
   "execution_count": 95,
   "id": "8de7db5b-96b6-4e4b-83e9-d282abfa0028",
   "metadata": {},
   "outputs": [
    {
     "name": "stdout",
     "output_type": "stream",
     "text": [
      "(8000, 20) (2000, 20) (8000,) (2000,)\n"
     ]
    }
   ],
   "source": [
    "print(x_train.shape, x_test.shape, y_train.shape, y_test.shape)"
   ]
  },
  {
   "cell_type": "code",
   "execution_count": 96,
   "id": "67603775-6360-4ade-91ca-c024ff95c332",
   "metadata": {},
   "outputs": [
    {
     "data": {
      "text/html": [
       "<div>\n",
       "<style scoped>\n",
       "    .dataframe tbody tr th:only-of-type {\n",
       "        vertical-align: middle;\n",
       "    }\n",
       "\n",
       "    .dataframe tbody tr th {\n",
       "        vertical-align: top;\n",
       "    }\n",
       "\n",
       "    .dataframe thead th {\n",
       "        text-align: right;\n",
       "    }\n",
       "</style>\n",
       "<table border=\"1\" class=\"dataframe\">\n",
       "  <thead>\n",
       "    <tr style=\"text-align: right;\">\n",
       "      <th></th>\n",
       "      <th>Age</th>\n",
       "      <th>Gender</th>\n",
       "      <th>Blood Pressure</th>\n",
       "      <th>Cholesterol Level</th>\n",
       "      <th>Exercise Habits</th>\n",
       "      <th>Smoking</th>\n",
       "      <th>Family Heart Disease</th>\n",
       "      <th>Diabetes</th>\n",
       "      <th>BMI</th>\n",
       "      <th>High Blood Pressure</th>\n",
       "      <th>Low HDL Cholesterol</th>\n",
       "      <th>High LDL Cholesterol</th>\n",
       "      <th>Alcohol Consumption</th>\n",
       "      <th>Stress Level</th>\n",
       "      <th>Sleep Hours</th>\n",
       "      <th>Sugar Consumption</th>\n",
       "      <th>Triglyceride Level</th>\n",
       "      <th>Fasting Blood Sugar</th>\n",
       "      <th>CRP Level</th>\n",
       "      <th>Homocysteine Level</th>\n",
       "    </tr>\n",
       "  </thead>\n",
       "  <tbody>\n",
       "    <tr>\n",
       "      <th>9254</th>\n",
       "      <td>78.0</td>\n",
       "      <td>Male</td>\n",
       "      <td>140.0</td>\n",
       "      <td>289.0</td>\n",
       "      <td>High</td>\n",
       "      <td>Yes</td>\n",
       "      <td>Yes</td>\n",
       "      <td>No</td>\n",
       "      <td>25.086206</td>\n",
       "      <td>Yes</td>\n",
       "      <td>Yes</td>\n",
       "      <td>No</td>\n",
       "      <td>Low</td>\n",
       "      <td>High</td>\n",
       "      <td>9.024681</td>\n",
       "      <td>Medium</td>\n",
       "      <td>222.0</td>\n",
       "      <td>137.0</td>\n",
       "      <td>14.481422</td>\n",
       "      <td>11.320909</td>\n",
       "    </tr>\n",
       "    <tr>\n",
       "      <th>1561</th>\n",
       "      <td>64.0</td>\n",
       "      <td>Male</td>\n",
       "      <td>143.0</td>\n",
       "      <td>203.0</td>\n",
       "      <td>Low</td>\n",
       "      <td>Yes</td>\n",
       "      <td>Yes</td>\n",
       "      <td>Yes</td>\n",
       "      <td>23.791361</td>\n",
       "      <td>Yes</td>\n",
       "      <td>Yes</td>\n",
       "      <td>No</td>\n",
       "      <td>High</td>\n",
       "      <td>Medium</td>\n",
       "      <td>6.543419</td>\n",
       "      <td>Medium</td>\n",
       "      <td>188.0</td>\n",
       "      <td>111.0</td>\n",
       "      <td>6.485267</td>\n",
       "      <td>15.761419</td>\n",
       "    </tr>\n",
       "  </tbody>\n",
       "</table>\n",
       "</div>"
      ],
      "text/plain": [
       "       Age Gender  Blood Pressure  Cholesterol Level Exercise Habits Smoking  \\\n",
       "9254  78.0   Male           140.0              289.0            High     Yes   \n",
       "1561  64.0   Male           143.0              203.0             Low     Yes   \n",
       "\n",
       "     Family Heart Disease Diabetes        BMI High Blood Pressure  \\\n",
       "9254                  Yes       No  25.086206                 Yes   \n",
       "1561                  Yes      Yes  23.791361                 Yes   \n",
       "\n",
       "     Low HDL Cholesterol High LDL Cholesterol Alcohol Consumption  \\\n",
       "9254                 Yes                   No                 Low   \n",
       "1561                 Yes                   No                High   \n",
       "\n",
       "     Stress Level  Sleep Hours Sugar Consumption  Triglyceride Level  \\\n",
       "9254         High     9.024681            Medium               222.0   \n",
       "1561       Medium     6.543419            Medium               188.0   \n",
       "\n",
       "      Fasting Blood Sugar  CRP Level  Homocysteine Level  \n",
       "9254                137.0  14.481422           11.320909  \n",
       "1561                111.0   6.485267           15.761419  "
      ]
     },
     "execution_count": 96,
     "metadata": {},
     "output_type": "execute_result"
    }
   ],
   "source": [
    "x_train.head(2)"
   ]
  },
  {
   "cell_type": "code",
   "execution_count": 97,
   "id": "9dd55bbb-a7d1-4a3d-86f1-96ef0c0a4480",
   "metadata": {},
   "outputs": [
    {
     "data": {
      "text/html": [
       "<div>\n",
       "<style scoped>\n",
       "    .dataframe tbody tr th:only-of-type {\n",
       "        vertical-align: middle;\n",
       "    }\n",
       "\n",
       "    .dataframe tbody tr th {\n",
       "        vertical-align: top;\n",
       "    }\n",
       "\n",
       "    .dataframe thead th {\n",
       "        text-align: right;\n",
       "    }\n",
       "</style>\n",
       "<table border=\"1\" class=\"dataframe\">\n",
       "  <thead>\n",
       "    <tr style=\"text-align: right;\">\n",
       "      <th></th>\n",
       "      <th>Age</th>\n",
       "      <th>Gender</th>\n",
       "      <th>Blood Pressure</th>\n",
       "      <th>Cholesterol Level</th>\n",
       "      <th>Exercise Habits</th>\n",
       "      <th>Smoking</th>\n",
       "      <th>Family Heart Disease</th>\n",
       "      <th>Diabetes</th>\n",
       "      <th>BMI</th>\n",
       "      <th>High Blood Pressure</th>\n",
       "      <th>Low HDL Cholesterol</th>\n",
       "      <th>High LDL Cholesterol</th>\n",
       "      <th>Alcohol Consumption</th>\n",
       "      <th>Stress Level</th>\n",
       "      <th>Sleep Hours</th>\n",
       "      <th>Sugar Consumption</th>\n",
       "      <th>Triglyceride Level</th>\n",
       "      <th>Fasting Blood Sugar</th>\n",
       "      <th>CRP Level</th>\n",
       "      <th>Homocysteine Level</th>\n",
       "    </tr>\n",
       "  </thead>\n",
       "  <tbody>\n",
       "    <tr>\n",
       "      <th>6252</th>\n",
       "      <td>38.0</td>\n",
       "      <td>Male</td>\n",
       "      <td>169.0</td>\n",
       "      <td>156.0</td>\n",
       "      <td>Medium</td>\n",
       "      <td>Yes</td>\n",
       "      <td>No</td>\n",
       "      <td>Yes</td>\n",
       "      <td>35.303549</td>\n",
       "      <td>No</td>\n",
       "      <td>No</td>\n",
       "      <td>Yes</td>\n",
       "      <td>Medium</td>\n",
       "      <td>High</td>\n",
       "      <td>4.213721</td>\n",
       "      <td>Medium</td>\n",
       "      <td>321.0</td>\n",
       "      <td>158.0</td>\n",
       "      <td>9.778347</td>\n",
       "      <td>17.400056</td>\n",
       "    </tr>\n",
       "    <tr>\n",
       "      <th>4684</th>\n",
       "      <td>77.0</td>\n",
       "      <td>Female</td>\n",
       "      <td>174.0</td>\n",
       "      <td>280.0</td>\n",
       "      <td>Medium</td>\n",
       "      <td>Yes</td>\n",
       "      <td>Yes</td>\n",
       "      <td>No</td>\n",
       "      <td>29.792178</td>\n",
       "      <td>Yes</td>\n",
       "      <td>No</td>\n",
       "      <td>Yes</td>\n",
       "      <td>NaN</td>\n",
       "      <td>Medium</td>\n",
       "      <td>5.081128</td>\n",
       "      <td>Medium</td>\n",
       "      <td>312.0</td>\n",
       "      <td>80.0</td>\n",
       "      <td>14.370456</td>\n",
       "      <td>8.724180</td>\n",
       "    </tr>\n",
       "  </tbody>\n",
       "</table>\n",
       "</div>"
      ],
      "text/plain": [
       "       Age  Gender  Blood Pressure  Cholesterol Level Exercise Habits Smoking  \\\n",
       "6252  38.0    Male           169.0              156.0          Medium     Yes   \n",
       "4684  77.0  Female           174.0              280.0          Medium     Yes   \n",
       "\n",
       "     Family Heart Disease Diabetes        BMI High Blood Pressure  \\\n",
       "6252                   No      Yes  35.303549                  No   \n",
       "4684                  Yes       No  29.792178                 Yes   \n",
       "\n",
       "     Low HDL Cholesterol High LDL Cholesterol Alcohol Consumption  \\\n",
       "6252                  No                  Yes              Medium   \n",
       "4684                  No                  Yes                 NaN   \n",
       "\n",
       "     Stress Level  Sleep Hours Sugar Consumption  Triglyceride Level  \\\n",
       "6252         High     4.213721            Medium               321.0   \n",
       "4684       Medium     5.081128            Medium               312.0   \n",
       "\n",
       "      Fasting Blood Sugar  CRP Level  Homocysteine Level  \n",
       "6252                158.0   9.778347           17.400056  \n",
       "4684                 80.0  14.370456            8.724180  "
      ]
     },
     "execution_count": 97,
     "metadata": {},
     "output_type": "execute_result"
    }
   ],
   "source": [
    "x_test.head(2)"
   ]
  },
  {
   "cell_type": "code",
   "execution_count": 98,
   "id": "c1af742b-73bf-4544-b8fb-dba931f1c500",
   "metadata": {},
   "outputs": [
    {
     "data": {
      "text/plain": [
       "9254    Yes\n",
       "1561     No\n",
       "1670     No\n",
       "6087     No\n",
       "6669     No\n",
       "Name: Heart Disease Status, dtype: object"
      ]
     },
     "execution_count": 98,
     "metadata": {},
     "output_type": "execute_result"
    }
   ],
   "source": [
    "y_train.head()"
   ]
  },
  {
   "cell_type": "code",
   "execution_count": 99,
   "id": "fc22ff0a-1da8-4e01-a3cd-2ae761b02ea5",
   "metadata": {},
   "outputs": [
    {
     "data": {
      "text/plain": [
       "6252    No\n",
       "4684    No\n",
       "1731    No\n",
       "4742    No\n",
       "4521    No\n",
       "Name: Heart Disease Status, dtype: object"
      ]
     },
     "execution_count": 99,
     "metadata": {},
     "output_type": "execute_result"
    }
   ],
   "source": [
    "y_test.head()"
   ]
  },
  {
   "cell_type": "code",
   "execution_count": 88,
   "id": "3c49da6e-fb47-4f5c-857b-3ac0d13c68c6",
   "metadata": {},
   "outputs": [
    {
     "name": "stdout",
     "output_type": "stream",
     "text": [
      "Heart Disease Status\n",
      "No     0.798375\n",
      "Yes    0.201625\n",
      "Name: proportion, dtype: float64\n",
      "Heart Disease Status\n",
      "No     0.8065\n",
      "Yes    0.1935\n",
      "Name: proportion, dtype: float64\n"
     ]
    }
   ],
   "source": [
    "print(y_train.value_counts(normalize=True))\n",
    "print(y_test.value_counts(normalize=True))"
   ]
  },
  {
   "cell_type": "markdown",
   "id": "b69cd514-f34e-421f-9246-c3986027accc",
   "metadata": {},
   "source": [
    "## Feature Engineering"
   ]
  },
  {
   "cell_type": "markdown",
   "id": "32c7f67f-f8c1-4376-b6ec-e30d78b701b2",
   "metadata": {},
   "source": [
    "## Feature Encoding"
   ]
  },
  {
   "cell_type": "markdown",
   "id": "09811eab-0edd-4158-9ab7-853828fa7338",
   "metadata": {},
   "source": [
    "#### Feature Scaling"
   ]
  },
  {
   "cell_type": "code",
   "execution_count": 100,
   "id": "ee0cfe33-4b2f-4f98-83ca-a4fbf7d11b82",
   "metadata": {},
   "outputs": [],
   "source": [
    "numeric_cols = x_train.select_dtypes(include=[\"float64\", \"int64\"]).columns.tolist()\n",
    "\n",
    "scaler = StandardScaler()\n",
    "x_train[numeric_cols] = scaler.fit_transform(x_train[numeric_cols])\n",
    "x_test[numeric_cols] = scaler.transform(x_test[numeric_cols])"
   ]
  },
  {
   "cell_type": "markdown",
   "id": "b6b74e34-31a1-496c-aa6f-c98068eb60f7",
   "metadata": {},
   "source": [
    "### Feature Encoding"
   ]
  },
  {
   "cell_type": "code",
   "execution_count": 101,
   "id": "088422a7-29c0-45fd-9ae5-00a64bf2fa56",
   "metadata": {},
   "outputs": [],
   "source": [
    "categorical_cols = x_train.select_dtypes(include=[\"object\"]).columns.tolist()\n",
    "pref = [\"Gen\",\"Exercise\",\"Smok\",\"Family\",\"Dia\",\"HighB\",\"LowHDL\",\"HighLDL\",\"Alch\",\"Stress\",\"Sugar\"]\n",
    "\n",
    "x_train = pd.get_dummies(data = x_train ,columns =  categorical_cols, prefix = pref,drop_first = True)\n",
    "x_test = pd.get_dummies(data = x_test ,columns = categorical_cols ,prefix = pref,drop_first = True)\n",
    "\n",
    "bool_columns = x_train.select_dtypes(include = \"bool\").columns\n",
    "x_train[bool_columns] = x_train[bool_columns].astype(int)\n",
    "\n",
    "bool_columns = x_test.select_dtypes(include = \"bool\").columns\n",
    "x_test[bool_columns] = x_test[bool_columns].astype(int)"
   ]
  },
  {
   "cell_type": "code",
   "execution_count": 102,
   "id": "31fbbb1c-a6d6-41ca-9b83-34fd9dd0e3b3",
   "metadata": {},
   "outputs": [
    {
     "data": {
      "text/html": [
       "<div>\n",
       "<style scoped>\n",
       "    .dataframe tbody tr th:only-of-type {\n",
       "        vertical-align: middle;\n",
       "    }\n",
       "\n",
       "    .dataframe tbody tr th {\n",
       "        vertical-align: top;\n",
       "    }\n",
       "\n",
       "    .dataframe thead th {\n",
       "        text-align: right;\n",
       "    }\n",
       "</style>\n",
       "<table border=\"1\" class=\"dataframe\">\n",
       "  <thead>\n",
       "    <tr style=\"text-align: right;\">\n",
       "      <th></th>\n",
       "      <th>Age</th>\n",
       "      <th>Blood Pressure</th>\n",
       "      <th>Cholesterol Level</th>\n",
       "      <th>BMI</th>\n",
       "      <th>Sleep Hours</th>\n",
       "      <th>Triglyceride Level</th>\n",
       "      <th>Fasting Blood Sugar</th>\n",
       "      <th>CRP Level</th>\n",
       "      <th>Homocysteine Level</th>\n",
       "      <th>Gen_Male</th>\n",
       "      <th>...</th>\n",
       "      <th>Dia_Yes</th>\n",
       "      <th>HighB_Yes</th>\n",
       "      <th>LowHDL_Yes</th>\n",
       "      <th>HighLDL_Yes</th>\n",
       "      <th>Alch_Low</th>\n",
       "      <th>Alch_Medium</th>\n",
       "      <th>Stress_Low</th>\n",
       "      <th>Stress_Medium</th>\n",
       "      <th>Sugar_Low</th>\n",
       "      <th>Sugar_Medium</th>\n",
       "    </tr>\n",
       "  </thead>\n",
       "  <tbody>\n",
       "    <tr>\n",
       "      <th>9254</th>\n",
       "      <td>1.587617</td>\n",
       "      <td>-0.553458</td>\n",
       "      <td>1.460896</td>\n",
       "      <td>-0.627637</td>\n",
       "      <td>1.165436</td>\n",
       "      <td>-0.329610</td>\n",
       "      <td>0.722793</td>\n",
       "      <td>1.617575</td>\n",
       "      <td>-0.260051</td>\n",
       "      <td>1</td>\n",
       "      <td>...</td>\n",
       "      <td>0</td>\n",
       "      <td>1</td>\n",
       "      <td>1</td>\n",
       "      <td>0</td>\n",
       "      <td>1</td>\n",
       "      <td>0</td>\n",
       "      <td>0</td>\n",
       "      <td>0</td>\n",
       "      <td>0</td>\n",
       "      <td>1</td>\n",
       "    </tr>\n",
       "    <tr>\n",
       "      <th>1561</th>\n",
       "      <td>0.817468</td>\n",
       "      <td>-0.382678</td>\n",
       "      <td>-0.510937</td>\n",
       "      <td>-0.832741</td>\n",
       "      <td>-0.249128</td>\n",
       "      <td>-0.718604</td>\n",
       "      <td>-0.379149</td>\n",
       "      <td>-0.225335</td>\n",
       "      <td>0.764507</td>\n",
       "      <td>1</td>\n",
       "      <td>...</td>\n",
       "      <td>1</td>\n",
       "      <td>1</td>\n",
       "      <td>1</td>\n",
       "      <td>0</td>\n",
       "      <td>0</td>\n",
       "      <td>0</td>\n",
       "      <td>0</td>\n",
       "      <td>1</td>\n",
       "      <td>0</td>\n",
       "      <td>1</td>\n",
       "    </tr>\n",
       "  </tbody>\n",
       "</table>\n",
       "<p>2 rows × 24 columns</p>\n",
       "</div>"
      ],
      "text/plain": [
       "           Age  Blood Pressure  Cholesterol Level       BMI  Sleep Hours  \\\n",
       "9254  1.587617       -0.553458           1.460896 -0.627637     1.165436   \n",
       "1561  0.817468       -0.382678          -0.510937 -0.832741    -0.249128   \n",
       "\n",
       "      Triglyceride Level  Fasting Blood Sugar  CRP Level  Homocysteine Level  \\\n",
       "9254           -0.329610             0.722793   1.617575           -0.260051   \n",
       "1561           -0.718604            -0.379149  -0.225335            0.764507   \n",
       "\n",
       "      Gen_Male  ...  Dia_Yes  HighB_Yes  LowHDL_Yes  HighLDL_Yes  Alch_Low  \\\n",
       "9254         1  ...        0          1           1            0         1   \n",
       "1561         1  ...        1          1           1            0         0   \n",
       "\n",
       "      Alch_Medium  Stress_Low  Stress_Medium  Sugar_Low  Sugar_Medium  \n",
       "9254            0           0              0          0             1  \n",
       "1561            0           0              1          0             1  \n",
       "\n",
       "[2 rows x 24 columns]"
      ]
     },
     "execution_count": 102,
     "metadata": {},
     "output_type": "execute_result"
    }
   ],
   "source": [
    "x_train.head(2)"
   ]
  },
  {
   "cell_type": "code",
   "execution_count": 103,
   "id": "088c8edd-4fcb-4080-94b2-2dda3dc2dc58",
   "metadata": {},
   "outputs": [
    {
     "data": {
      "text/html": [
       "<div>\n",
       "<style scoped>\n",
       "    .dataframe tbody tr th:only-of-type {\n",
       "        vertical-align: middle;\n",
       "    }\n",
       "\n",
       "    .dataframe tbody tr th {\n",
       "        vertical-align: top;\n",
       "    }\n",
       "\n",
       "    .dataframe thead th {\n",
       "        text-align: right;\n",
       "    }\n",
       "</style>\n",
       "<table border=\"1\" class=\"dataframe\">\n",
       "  <thead>\n",
       "    <tr style=\"text-align: right;\">\n",
       "      <th></th>\n",
       "      <th>Age</th>\n",
       "      <th>Blood Pressure</th>\n",
       "      <th>Cholesterol Level</th>\n",
       "      <th>BMI</th>\n",
       "      <th>Sleep Hours</th>\n",
       "      <th>Triglyceride Level</th>\n",
       "      <th>Fasting Blood Sugar</th>\n",
       "      <th>CRP Level</th>\n",
       "      <th>Homocysteine Level</th>\n",
       "      <th>Gen_Male</th>\n",
       "      <th>...</th>\n",
       "      <th>Dia_Yes</th>\n",
       "      <th>HighB_Yes</th>\n",
       "      <th>LowHDL_Yes</th>\n",
       "      <th>HighLDL_Yes</th>\n",
       "      <th>Alch_Low</th>\n",
       "      <th>Alch_Medium</th>\n",
       "      <th>Stress_Low</th>\n",
       "      <th>Stress_Medium</th>\n",
       "      <th>Sugar_Low</th>\n",
       "      <th>Sugar_Medium</th>\n",
       "    </tr>\n",
       "  </thead>\n",
       "  <tbody>\n",
       "    <tr>\n",
       "      <th>6252</th>\n",
       "      <td>-0.612808</td>\n",
       "      <td>1.097412</td>\n",
       "      <td>-1.588567</td>\n",
       "      <td>0.990795</td>\n",
       "      <td>-1.577285</td>\n",
       "      <td>0.803048</td>\n",
       "      <td>1.612823</td>\n",
       "      <td>0.533636</td>\n",
       "      <td>1.142590</td>\n",
       "      <td>1</td>\n",
       "      <td>...</td>\n",
       "      <td>1</td>\n",
       "      <td>0</td>\n",
       "      <td>0</td>\n",
       "      <td>1</td>\n",
       "      <td>0</td>\n",
       "      <td>1</td>\n",
       "      <td>0</td>\n",
       "      <td>0</td>\n",
       "      <td>0</td>\n",
       "      <td>1</td>\n",
       "    </tr>\n",
       "    <tr>\n",
       "      <th>4684</th>\n",
       "      <td>1.532606</td>\n",
       "      <td>1.382044</td>\n",
       "      <td>1.254541</td>\n",
       "      <td>0.117791</td>\n",
       "      <td>-1.082777</td>\n",
       "      <td>0.700079</td>\n",
       "      <td>-1.693003</td>\n",
       "      <td>1.592000</td>\n",
       "      <td>-0.859194</td>\n",
       "      <td>0</td>\n",
       "      <td>...</td>\n",
       "      <td>0</td>\n",
       "      <td>1</td>\n",
       "      <td>0</td>\n",
       "      <td>1</td>\n",
       "      <td>0</td>\n",
       "      <td>0</td>\n",
       "      <td>0</td>\n",
       "      <td>1</td>\n",
       "      <td>0</td>\n",
       "      <td>1</td>\n",
       "    </tr>\n",
       "  </tbody>\n",
       "</table>\n",
       "<p>2 rows × 24 columns</p>\n",
       "</div>"
      ],
      "text/plain": [
       "           Age  Blood Pressure  Cholesterol Level       BMI  Sleep Hours  \\\n",
       "6252 -0.612808        1.097412          -1.588567  0.990795    -1.577285   \n",
       "4684  1.532606        1.382044           1.254541  0.117791    -1.082777   \n",
       "\n",
       "      Triglyceride Level  Fasting Blood Sugar  CRP Level  Homocysteine Level  \\\n",
       "6252            0.803048             1.612823   0.533636            1.142590   \n",
       "4684            0.700079            -1.693003   1.592000           -0.859194   \n",
       "\n",
       "      Gen_Male  ...  Dia_Yes  HighB_Yes  LowHDL_Yes  HighLDL_Yes  Alch_Low  \\\n",
       "6252         1  ...        1          0           0            1         0   \n",
       "4684         0  ...        0          1           0            1         0   \n",
       "\n",
       "      Alch_Medium  Stress_Low  Stress_Medium  Sugar_Low  Sugar_Medium  \n",
       "6252            1           0              0          0             1  \n",
       "4684            0           0              1          0             1  \n",
       "\n",
       "[2 rows x 24 columns]"
      ]
     },
     "execution_count": 103,
     "metadata": {},
     "output_type": "execute_result"
    }
   ],
   "source": [
    "x_test.head(2)"
   ]
  },
  {
   "cell_type": "markdown",
   "id": "d259d4a8-92f7-4694-a346-049ba063f264",
   "metadata": {},
   "source": [
    "## Missing Data"
   ]
  },
  {
   "cell_type": "code",
   "execution_count": 104,
   "id": "1312de8c-c8c5-44d8-bff4-5063554d39bf",
   "metadata": {},
   "outputs": [
    {
     "data": {
      "text/plain": [
       "Age                    25\n",
       "Blood Pressure         16\n",
       "Cholesterol Level      25\n",
       "BMI                    16\n",
       "Sleep Hours            22\n",
       "Triglyceride Level     22\n",
       "Fasting Blood Sugar    12\n",
       "CRP Level              18\n",
       "Homocysteine Level     16\n",
       "Gen_Male                0\n",
       "Exercise_Low            0\n",
       "Exercise_Medium         0\n",
       "Smok_Yes                0\n",
       "Family_Yes              0\n",
       "Dia_Yes                 0\n",
       "HighB_Yes               0\n",
       "LowHDL_Yes              0\n",
       "HighLDL_Yes             0\n",
       "Alch_Low                0\n",
       "Alch_Medium             0\n",
       "Stress_Low              0\n",
       "Stress_Medium           0\n",
       "Sugar_Low               0\n",
       "Sugar_Medium            0\n",
       "dtype: int64"
      ]
     },
     "execution_count": 104,
     "metadata": {},
     "output_type": "execute_result"
    }
   ],
   "source": [
    "x_train.isnull().sum()"
   ]
  },
  {
   "cell_type": "code",
   "execution_count": 105,
   "id": "b83d91d3-6e68-4e10-8906-c4c610727eb0",
   "metadata": {},
   "outputs": [
    {
     "data": {
      "text/plain": [
       "Age                    0.25\n",
       "Blood Pressure         0.16\n",
       "Cholesterol Level      0.25\n",
       "BMI                    0.16\n",
       "Sleep Hours            0.22\n",
       "Triglyceride Level     0.22\n",
       "Fasting Blood Sugar    0.12\n",
       "CRP Level              0.18\n",
       "Homocysteine Level     0.16\n",
       "Gen_Male               0.00\n",
       "Exercise_Low           0.00\n",
       "Exercise_Medium        0.00\n",
       "Smok_Yes               0.00\n",
       "Family_Yes             0.00\n",
       "Dia_Yes                0.00\n",
       "HighB_Yes              0.00\n",
       "LowHDL_Yes             0.00\n",
       "HighLDL_Yes            0.00\n",
       "Alch_Low               0.00\n",
       "Alch_Medium            0.00\n",
       "Stress_Low             0.00\n",
       "Stress_Medium          0.00\n",
       "Sugar_Low              0.00\n",
       "Sugar_Medium           0.00\n",
       "dtype: float64"
      ]
     },
     "execution_count": 105,
     "metadata": {},
     "output_type": "execute_result"
    }
   ],
   "source": [
    "x_train.isnull().sum()/len(df)*100"
   ]
  },
  {
   "cell_type": "code",
   "execution_count": 106,
   "id": "0c7c1697-e1fe-4e51-ae7b-3cfe41eb5b87",
   "metadata": {},
   "outputs": [
    {
     "data": {
      "text/plain": [
       "Age                     4\n",
       "Blood Pressure          3\n",
       "Cholesterol Level       5\n",
       "BMI                     6\n",
       "Sleep Hours             3\n",
       "Triglyceride Level      4\n",
       "Fasting Blood Sugar    10\n",
       "CRP Level               8\n",
       "Homocysteine Level      4\n",
       "Gen_Male                0\n",
       "Exercise_Low            0\n",
       "Exercise_Medium         0\n",
       "Smok_Yes                0\n",
       "Family_Yes              0\n",
       "Dia_Yes                 0\n",
       "HighB_Yes               0\n",
       "LowHDL_Yes              0\n",
       "HighLDL_Yes             0\n",
       "Alch_Low                0\n",
       "Alch_Medium             0\n",
       "Stress_Low              0\n",
       "Stress_Medium           0\n",
       "Sugar_Low               0\n",
       "Sugar_Medium            0\n",
       "dtype: int64"
      ]
     },
     "execution_count": 106,
     "metadata": {},
     "output_type": "execute_result"
    }
   ],
   "source": [
    "x_test.isnull().sum()"
   ]
  },
  {
   "cell_type": "code",
   "execution_count": 107,
   "id": "46e46659-fe7f-4228-b1f7-0c7735363a4e",
   "metadata": {},
   "outputs": [
    {
     "data": {
      "text/plain": [
       "Age                    0.04\n",
       "Blood Pressure         0.03\n",
       "Cholesterol Level      0.05\n",
       "BMI                    0.06\n",
       "Sleep Hours            0.03\n",
       "Triglyceride Level     0.04\n",
       "Fasting Blood Sugar    0.10\n",
       "CRP Level              0.08\n",
       "Homocysteine Level     0.04\n",
       "Gen_Male               0.00\n",
       "Exercise_Low           0.00\n",
       "Exercise_Medium        0.00\n",
       "Smok_Yes               0.00\n",
       "Family_Yes             0.00\n",
       "Dia_Yes                0.00\n",
       "HighB_Yes              0.00\n",
       "LowHDL_Yes             0.00\n",
       "HighLDL_Yes            0.00\n",
       "Alch_Low               0.00\n",
       "Alch_Medium            0.00\n",
       "Stress_Low             0.00\n",
       "Stress_Medium          0.00\n",
       "Sugar_Low              0.00\n",
       "Sugar_Medium           0.00\n",
       "dtype: float64"
      ]
     },
     "execution_count": 107,
     "metadata": {},
     "output_type": "execute_result"
    }
   ],
   "source": [
    "x_test.isnull().sum()/len(df)*100"
   ]
  },
  {
   "cell_type": "code",
   "execution_count": 108,
   "id": "829153f3-b517-494a-889b-fb2473c7fb52",
   "metadata": {},
   "outputs": [
    {
     "data": {
      "text/plain": [
       "Age                      0.29\n",
       "Gender                   0.19\n",
       "Blood Pressure           0.19\n",
       "Cholesterol Level        0.30\n",
       "Exercise Habits          0.25\n",
       "Smoking                  0.25\n",
       "Family Heart Disease     0.21\n",
       "Diabetes                 0.30\n",
       "BMI                      0.22\n",
       "High Blood Pressure      0.26\n",
       "Low HDL Cholesterol      0.25\n",
       "High LDL Cholesterol     0.26\n",
       "Alcohol Consumption     25.86\n",
       "Stress Level             0.22\n",
       "Sleep Hours              0.25\n",
       "Sugar Consumption        0.30\n",
       "Triglyceride Level       0.26\n",
       "Fasting Blood Sugar      0.22\n",
       "CRP Level                0.26\n",
       "Homocysteine Level       0.20\n",
       "Heart Disease Status     0.00\n",
       "dtype: float64"
      ]
     },
     "execution_count": 108,
     "metadata": {},
     "output_type": "execute_result"
    }
   ],
   "source": [
    "(df.isnull().sum()/ len(df)) * 100"
   ]
  },
  {
   "cell_type": "markdown",
   "id": "bfeb88a6-3e3a-4a9e-8897-2a01e6c0b229",
   "metadata": {},
   "source": [
    "## Overview of Missing Data:\n",
    "\n",
    "- A detailed analysis of missing data was conducted on the dataset. The findings indicate that:\n",
    "\n",
    "- The missing data percentage ranges between 0.19% and 0.30% for most features.\n",
    "\n",
    "- The 'Alcohol Consumption' column has a significantly higher missing data percentage (25.86%), which is approximately one-fourth of the dataset.\n",
    "\n",
    "- No evident correlation was found between missing values and other variables.\n",
    "\n",
    "- There are no outliers in the dataset that could distort the missing data imputation process."
   ]
  },
  {
   "cell_type": "code",
   "execution_count": 109,
   "id": "52492cbd-fe4b-4db5-a09a-11592898f9f8",
   "metadata": {},
   "outputs": [],
   "source": [
    "x_train= x_train.drop([\"Alch_Low\",\"Alch_Medium\"] , axis = 1)\n",
    "x_test= x_test.drop([\"Alch_Low\",\"Alch_Medium\"], axis = 1)"
   ]
  },
  {
   "cell_type": "code",
   "execution_count": 114,
   "id": "9bb426a9-7397-4d8c-99e4-8478b84ce4eb",
   "metadata": {},
   "outputs": [
    {
     "name": "stdout",
     "output_type": "stream",
     "text": [
      "Imputing row 1/8000 with 0 missing, elapsed time: 10.864\n",
      "Imputing row 101/8000 with 0 missing, elapsed time: 10.866\n",
      "Imputing row 201/8000 with 0 missing, elapsed time: 10.866\n",
      "Imputing row 301/8000 with 0 missing, elapsed time: 10.867\n",
      "Imputing row 401/8000 with 0 missing, elapsed time: 10.868\n",
      "Imputing row 501/8000 with 0 missing, elapsed time: 10.868\n",
      "Imputing row 601/8000 with 0 missing, elapsed time: 10.869\n",
      "Imputing row 701/8000 with 0 missing, elapsed time: 10.870\n",
      "Imputing row 801/8000 with 0 missing, elapsed time: 10.870\n",
      "Imputing row 901/8000 with 0 missing, elapsed time: 10.871\n",
      "Imputing row 1001/8000 with 0 missing, elapsed time: 10.872\n",
      "Imputing row 1101/8000 with 0 missing, elapsed time: 10.872\n",
      "Imputing row 1201/8000 with 0 missing, elapsed time: 10.873\n",
      "Imputing row 1301/8000 with 0 missing, elapsed time: 10.873\n",
      "Imputing row 1401/8000 with 0 missing, elapsed time: 10.874\n",
      "Imputing row 1501/8000 with 0 missing, elapsed time: 10.875\n",
      "Imputing row 1601/8000 with 0 missing, elapsed time: 10.875\n",
      "Imputing row 1701/8000 with 0 missing, elapsed time: 10.876\n",
      "Imputing row 1801/8000 with 0 missing, elapsed time: 10.876\n",
      "Imputing row 1901/8000 with 0 missing, elapsed time: 10.876\n",
      "Imputing row 2001/8000 with 0 missing, elapsed time: 10.877\n",
      "Imputing row 2101/8000 with 0 missing, elapsed time: 10.877\n",
      "Imputing row 2201/8000 with 0 missing, elapsed time: 10.877\n",
      "Imputing row 2301/8000 with 0 missing, elapsed time: 10.878\n",
      "Imputing row 2401/8000 with 0 missing, elapsed time: 10.878\n",
      "Imputing row 2501/8000 with 0 missing, elapsed time: 10.878\n",
      "Imputing row 2601/8000 with 0 missing, elapsed time: 10.879\n",
      "Imputing row 2701/8000 with 0 missing, elapsed time: 10.879\n",
      "Imputing row 2801/8000 with 0 missing, elapsed time: 10.879\n",
      "Imputing row 2901/8000 with 0 missing, elapsed time: 10.880\n",
      "Imputing row 3001/8000 with 0 missing, elapsed time: 10.880\n",
      "Imputing row 3101/8000 with 0 missing, elapsed time: 10.880\n",
      "Imputing row 3201/8000 with 0 missing, elapsed time: 10.881\n",
      "Imputing row 3301/8000 with 0 missing, elapsed time: 10.881\n",
      "Imputing row 3401/8000 with 0 missing, elapsed time: 10.881\n",
      "Imputing row 3501/8000 with 0 missing, elapsed time: 10.881\n",
      "Imputing row 3601/8000 with 0 missing, elapsed time: 10.882\n",
      "Imputing row 3701/8000 with 0 missing, elapsed time: 10.882\n",
      "Imputing row 3801/8000 with 0 missing, elapsed time: 10.882\n",
      "Imputing row 3901/8000 with 0 missing, elapsed time: 10.883\n",
      "Imputing row 4001/8000 with 0 missing, elapsed time: 10.883\n",
      "Imputing row 4101/8000 with 0 missing, elapsed time: 10.883\n",
      "Imputing row 4201/8000 with 0 missing, elapsed time: 10.883\n",
      "Imputing row 4301/8000 with 0 missing, elapsed time: 10.884\n",
      "Imputing row 4401/8000 with 0 missing, elapsed time: 10.884\n",
      "Imputing row 4501/8000 with 0 missing, elapsed time: 10.884\n",
      "Imputing row 4601/8000 with 0 missing, elapsed time: 10.885\n",
      "Imputing row 4701/8000 with 0 missing, elapsed time: 10.886\n",
      "Imputing row 4801/8000 with 0 missing, elapsed time: 10.886\n",
      "Imputing row 4901/8000 with 0 missing, elapsed time: 10.887\n",
      "Imputing row 5001/8000 with 0 missing, elapsed time: 10.888\n",
      "Imputing row 5101/8000 with 0 missing, elapsed time: 10.888\n",
      "Imputing row 5201/8000 with 0 missing, elapsed time: 10.889\n",
      "Imputing row 5301/8000 with 0 missing, elapsed time: 10.890\n",
      "Imputing row 5401/8000 with 0 missing, elapsed time: 10.890\n",
      "Imputing row 5501/8000 with 0 missing, elapsed time: 10.891\n",
      "Imputing row 5601/8000 with 0 missing, elapsed time: 10.891\n",
      "Imputing row 5701/8000 with 0 missing, elapsed time: 10.892\n",
      "Imputing row 5801/8000 with 0 missing, elapsed time: 10.893\n",
      "Imputing row 5901/8000 with 0 missing, elapsed time: 10.893\n",
      "Imputing row 6001/8000 with 0 missing, elapsed time: 10.894\n",
      "Imputing row 6101/8000 with 0 missing, elapsed time: 10.895\n",
      "Imputing row 6201/8000 with 0 missing, elapsed time: 10.895\n",
      "Imputing row 6301/8000 with 0 missing, elapsed time: 10.896\n",
      "Imputing row 6401/8000 with 0 missing, elapsed time: 10.897\n",
      "Imputing row 6501/8000 with 0 missing, elapsed time: 10.897\n",
      "Imputing row 6601/8000 with 0 missing, elapsed time: 10.898\n",
      "Imputing row 6701/8000 with 0 missing, elapsed time: 10.899\n",
      "Imputing row 6801/8000 with 0 missing, elapsed time: 10.899\n",
      "Imputing row 6901/8000 with 0 missing, elapsed time: 10.900\n",
      "Imputing row 7001/8000 with 0 missing, elapsed time: 10.901\n",
      "Imputing row 7101/8000 with 0 missing, elapsed time: 10.901\n",
      "Imputing row 7201/8000 with 0 missing, elapsed time: 10.902\n",
      "Imputing row 7301/8000 with 0 missing, elapsed time: 10.903\n",
      "Imputing row 7401/8000 with 0 missing, elapsed time: 10.903\n",
      "Imputing row 7501/8000 with 0 missing, elapsed time: 10.903\n",
      "Imputing row 7601/8000 with 0 missing, elapsed time: 10.904\n",
      "Imputing row 7701/8000 with 0 missing, elapsed time: 10.904\n",
      "Imputing row 7801/8000 with 0 missing, elapsed time: 10.904\n",
      "Imputing row 7901/8000 with 0 missing, elapsed time: 10.905\n",
      "Imputing row 1/2000 with 0 missing, elapsed time: 0.606\n",
      "Imputing row 101/2000 with 0 missing, elapsed time: 0.607\n",
      "Imputing row 201/2000 with 0 missing, elapsed time: 0.607\n",
      "Imputing row 301/2000 with 0 missing, elapsed time: 0.608\n",
      "Imputing row 401/2000 with 0 missing, elapsed time: 0.609\n",
      "Imputing row 501/2000 with 0 missing, elapsed time: 0.609\n",
      "Imputing row 601/2000 with 0 missing, elapsed time: 0.609\n",
      "Imputing row 701/2000 with 0 missing, elapsed time: 0.610\n",
      "Imputing row 801/2000 with 0 missing, elapsed time: 0.610\n",
      "Imputing row 901/2000 with 0 missing, elapsed time: 0.610\n",
      "Imputing row 1001/2000 with 0 missing, elapsed time: 0.611\n",
      "Imputing row 1101/2000 with 0 missing, elapsed time: 0.611\n",
      "Imputing row 1201/2000 with 0 missing, elapsed time: 0.611\n",
      "Imputing row 1301/2000 with 0 missing, elapsed time: 0.611\n",
      "Imputing row 1401/2000 with 0 missing, elapsed time: 0.612\n",
      "Imputing row 1501/2000 with 1 missing, elapsed time: 0.612\n",
      "Imputing row 1601/2000 with 0 missing, elapsed time: 0.612\n",
      "Imputing row 1701/2000 with 0 missing, elapsed time: 0.613\n",
      "Imputing row 1801/2000 with 0 missing, elapsed time: 0.613\n",
      "Imputing row 1901/2000 with 0 missing, elapsed time: 0.613\n"
     ]
    }
   ],
   "source": [
    "from fancyimpute import KNN  # Make sure fancyimpute is installed\n",
    "\n",
    "x_train_filled = KNN(k=5).fit_transform(x_train.values)\n",
    "x_train = pd.DataFrame(x_train_filled, columns=x_train.columns)\n",
    "\n",
    "x_test_filled = KNN(k=5).fit_transform(x_test.values)\n",
    "x_test = pd.DataFrame(x_test_filled, columns=x_train.columns)\n"
   ]
  },
  {
   "cell_type": "code",
   "execution_count": 115,
   "id": "8ad4f8ae-f4d5-4da1-bf11-d899b61daeb7",
   "metadata": {},
   "outputs": [
    {
     "name": "stdout",
     "output_type": "stream",
     "text": [
      "Age                    0\n",
      "Blood Pressure         0\n",
      "Cholesterol Level      0\n",
      "BMI                    0\n",
      "Sleep Hours            0\n",
      "Triglyceride Level     0\n",
      "Fasting Blood Sugar    0\n",
      "CRP Level              0\n",
      "Homocysteine Level     0\n",
      "Gen_Male               0\n",
      "Exercise_Low           0\n",
      "Exercise_Medium        0\n",
      "Smok_Yes               0\n",
      "Family_Yes             0\n",
      "Dia_Yes                0\n",
      "HighB_Yes              0\n",
      "LowHDL_Yes             0\n",
      "HighLDL_Yes            0\n",
      "Stress_Low             0\n",
      "Stress_Medium          0\n",
      "Sugar_Low              0\n",
      "Sugar_Medium           0\n",
      "dtype: int64\n",
      "----------------------------------------\n",
      "Age                    0\n",
      "Blood Pressure         0\n",
      "Cholesterol Level      0\n",
      "BMI                    0\n",
      "Sleep Hours            0\n",
      "Triglyceride Level     0\n",
      "Fasting Blood Sugar    0\n",
      "CRP Level              0\n",
      "Homocysteine Level     0\n",
      "Gen_Male               0\n",
      "Exercise_Low           0\n",
      "Exercise_Medium        0\n",
      "Smok_Yes               0\n",
      "Family_Yes             0\n",
      "Dia_Yes                0\n",
      "HighB_Yes              0\n",
      "LowHDL_Yes             0\n",
      "HighLDL_Yes            0\n",
      "Stress_Low             0\n",
      "Stress_Medium          0\n",
      "Sugar_Low              0\n",
      "Sugar_Medium           0\n",
      "dtype: int64\n"
     ]
    }
   ],
   "source": [
    "print(x_test.isnull().sum())\n",
    "print(\"----------------------------------------\")\n",
    "print(x_train.isnull().sum())"
   ]
  },
  {
   "cell_type": "markdown",
   "id": "2b02c935-0514-4c5a-ac7b-8b8c73629bea",
   "metadata": {},
   "source": [
    "## Machine Learning"
   ]
  },
  {
   "cell_type": "markdown",
   "id": "93922035-43eb-4734-80db-54ae8f082a9a",
   "metadata": {},
   "source": [
    "## Logistic Regression"
   ]
  },
  {
   "cell_type": "code",
   "execution_count": 154,
   "id": "b44f8716-744e-413a-bf8f-f62d86763b24",
   "metadata": {},
   "outputs": [],
   "source": [
    "lr=LogisticRegression()"
   ]
  },
  {
   "cell_type": "code",
   "execution_count": 155,
   "id": "1cdd67bd-9872-4fde-818a-d2b1f9754995",
   "metadata": {},
   "outputs": [
    {
     "data": {
      "text/html": [
       "<style>#sk-container-id-2 {\n",
       "  /* Definition of color scheme common for light and dark mode */\n",
       "  --sklearn-color-text: #000;\n",
       "  --sklearn-color-text-muted: #666;\n",
       "  --sklearn-color-line: gray;\n",
       "  /* Definition of color scheme for unfitted estimators */\n",
       "  --sklearn-color-unfitted-level-0: #fff5e6;\n",
       "  --sklearn-color-unfitted-level-1: #f6e4d2;\n",
       "  --sklearn-color-unfitted-level-2: #ffe0b3;\n",
       "  --sklearn-color-unfitted-level-3: chocolate;\n",
       "  /* Definition of color scheme for fitted estimators */\n",
       "  --sklearn-color-fitted-level-0: #f0f8ff;\n",
       "  --sklearn-color-fitted-level-1: #d4ebff;\n",
       "  --sklearn-color-fitted-level-2: #b3dbfd;\n",
       "  --sklearn-color-fitted-level-3: cornflowerblue;\n",
       "\n",
       "  /* Specific color for light theme */\n",
       "  --sklearn-color-text-on-default-background: var(--sg-text-color, var(--theme-code-foreground, var(--jp-content-font-color1, black)));\n",
       "  --sklearn-color-background: var(--sg-background-color, var(--theme-background, var(--jp-layout-color0, white)));\n",
       "  --sklearn-color-border-box: var(--sg-text-color, var(--theme-code-foreground, var(--jp-content-font-color1, black)));\n",
       "  --sklearn-color-icon: #696969;\n",
       "\n",
       "  @media (prefers-color-scheme: dark) {\n",
       "    /* Redefinition of color scheme for dark theme */\n",
       "    --sklearn-color-text-on-default-background: var(--sg-text-color, var(--theme-code-foreground, var(--jp-content-font-color1, white)));\n",
       "    --sklearn-color-background: var(--sg-background-color, var(--theme-background, var(--jp-layout-color0, #111)));\n",
       "    --sklearn-color-border-box: var(--sg-text-color, var(--theme-code-foreground, var(--jp-content-font-color1, white)));\n",
       "    --sklearn-color-icon: #878787;\n",
       "  }\n",
       "}\n",
       "\n",
       "#sk-container-id-2 {\n",
       "  color: var(--sklearn-color-text);\n",
       "}\n",
       "\n",
       "#sk-container-id-2 pre {\n",
       "  padding: 0;\n",
       "}\n",
       "\n",
       "#sk-container-id-2 input.sk-hidden--visually {\n",
       "  border: 0;\n",
       "  clip: rect(1px 1px 1px 1px);\n",
       "  clip: rect(1px, 1px, 1px, 1px);\n",
       "  height: 1px;\n",
       "  margin: -1px;\n",
       "  overflow: hidden;\n",
       "  padding: 0;\n",
       "  position: absolute;\n",
       "  width: 1px;\n",
       "}\n",
       "\n",
       "#sk-container-id-2 div.sk-dashed-wrapped {\n",
       "  border: 1px dashed var(--sklearn-color-line);\n",
       "  margin: 0 0.4em 0.5em 0.4em;\n",
       "  box-sizing: border-box;\n",
       "  padding-bottom: 0.4em;\n",
       "  background-color: var(--sklearn-color-background);\n",
       "}\n",
       "\n",
       "#sk-container-id-2 div.sk-container {\n",
       "  /* jupyter's `normalize.less` sets `[hidden] { display: none; }`\n",
       "     but bootstrap.min.css set `[hidden] { display: none !important; }`\n",
       "     so we also need the `!important` here to be able to override the\n",
       "     default hidden behavior on the sphinx rendered scikit-learn.org.\n",
       "     See: https://github.com/scikit-learn/scikit-learn/issues/21755 */\n",
       "  display: inline-block !important;\n",
       "  position: relative;\n",
       "}\n",
       "\n",
       "#sk-container-id-2 div.sk-text-repr-fallback {\n",
       "  display: none;\n",
       "}\n",
       "\n",
       "div.sk-parallel-item,\n",
       "div.sk-serial,\n",
       "div.sk-item {\n",
       "  /* draw centered vertical line to link estimators */\n",
       "  background-image: linear-gradient(var(--sklearn-color-text-on-default-background), var(--sklearn-color-text-on-default-background));\n",
       "  background-size: 2px 100%;\n",
       "  background-repeat: no-repeat;\n",
       "  background-position: center center;\n",
       "}\n",
       "\n",
       "/* Parallel-specific style estimator block */\n",
       "\n",
       "#sk-container-id-2 div.sk-parallel-item::after {\n",
       "  content: \"\";\n",
       "  width: 100%;\n",
       "  border-bottom: 2px solid var(--sklearn-color-text-on-default-background);\n",
       "  flex-grow: 1;\n",
       "}\n",
       "\n",
       "#sk-container-id-2 div.sk-parallel {\n",
       "  display: flex;\n",
       "  align-items: stretch;\n",
       "  justify-content: center;\n",
       "  background-color: var(--sklearn-color-background);\n",
       "  position: relative;\n",
       "}\n",
       "\n",
       "#sk-container-id-2 div.sk-parallel-item {\n",
       "  display: flex;\n",
       "  flex-direction: column;\n",
       "}\n",
       "\n",
       "#sk-container-id-2 div.sk-parallel-item:first-child::after {\n",
       "  align-self: flex-end;\n",
       "  width: 50%;\n",
       "}\n",
       "\n",
       "#sk-container-id-2 div.sk-parallel-item:last-child::after {\n",
       "  align-self: flex-start;\n",
       "  width: 50%;\n",
       "}\n",
       "\n",
       "#sk-container-id-2 div.sk-parallel-item:only-child::after {\n",
       "  width: 0;\n",
       "}\n",
       "\n",
       "/* Serial-specific style estimator block */\n",
       "\n",
       "#sk-container-id-2 div.sk-serial {\n",
       "  display: flex;\n",
       "  flex-direction: column;\n",
       "  align-items: center;\n",
       "  background-color: var(--sklearn-color-background);\n",
       "  padding-right: 1em;\n",
       "  padding-left: 1em;\n",
       "}\n",
       "\n",
       "\n",
       "/* Toggleable style: style used for estimator/Pipeline/ColumnTransformer box that is\n",
       "clickable and can be expanded/collapsed.\n",
       "- Pipeline and ColumnTransformer use this feature and define the default style\n",
       "- Estimators will overwrite some part of the style using the `sk-estimator` class\n",
       "*/\n",
       "\n",
       "/* Pipeline and ColumnTransformer style (default) */\n",
       "\n",
       "#sk-container-id-2 div.sk-toggleable {\n",
       "  /* Default theme specific background. It is overwritten whether we have a\n",
       "  specific estimator or a Pipeline/ColumnTransformer */\n",
       "  background-color: var(--sklearn-color-background);\n",
       "}\n",
       "\n",
       "/* Toggleable label */\n",
       "#sk-container-id-2 label.sk-toggleable__label {\n",
       "  cursor: pointer;\n",
       "  display: flex;\n",
       "  width: 100%;\n",
       "  margin-bottom: 0;\n",
       "  padding: 0.5em;\n",
       "  box-sizing: border-box;\n",
       "  text-align: center;\n",
       "  align-items: start;\n",
       "  justify-content: space-between;\n",
       "  gap: 0.5em;\n",
       "}\n",
       "\n",
       "#sk-container-id-2 label.sk-toggleable__label .caption {\n",
       "  font-size: 0.6rem;\n",
       "  font-weight: lighter;\n",
       "  color: var(--sklearn-color-text-muted);\n",
       "}\n",
       "\n",
       "#sk-container-id-2 label.sk-toggleable__label-arrow:before {\n",
       "  /* Arrow on the left of the label */\n",
       "  content: \"▸\";\n",
       "  float: left;\n",
       "  margin-right: 0.25em;\n",
       "  color: var(--sklearn-color-icon);\n",
       "}\n",
       "\n",
       "#sk-container-id-2 label.sk-toggleable__label-arrow:hover:before {\n",
       "  color: var(--sklearn-color-text);\n",
       "}\n",
       "\n",
       "/* Toggleable content - dropdown */\n",
       "\n",
       "#sk-container-id-2 div.sk-toggleable__content {\n",
       "  max-height: 0;\n",
       "  max-width: 0;\n",
       "  overflow: hidden;\n",
       "  text-align: left;\n",
       "  /* unfitted */\n",
       "  background-color: var(--sklearn-color-unfitted-level-0);\n",
       "}\n",
       "\n",
       "#sk-container-id-2 div.sk-toggleable__content.fitted {\n",
       "  /* fitted */\n",
       "  background-color: var(--sklearn-color-fitted-level-0);\n",
       "}\n",
       "\n",
       "#sk-container-id-2 div.sk-toggleable__content pre {\n",
       "  margin: 0.2em;\n",
       "  border-radius: 0.25em;\n",
       "  color: var(--sklearn-color-text);\n",
       "  /* unfitted */\n",
       "  background-color: var(--sklearn-color-unfitted-level-0);\n",
       "}\n",
       "\n",
       "#sk-container-id-2 div.sk-toggleable__content.fitted pre {\n",
       "  /* unfitted */\n",
       "  background-color: var(--sklearn-color-fitted-level-0);\n",
       "}\n",
       "\n",
       "#sk-container-id-2 input.sk-toggleable__control:checked~div.sk-toggleable__content {\n",
       "  /* Expand drop-down */\n",
       "  max-height: 200px;\n",
       "  max-width: 100%;\n",
       "  overflow: auto;\n",
       "}\n",
       "\n",
       "#sk-container-id-2 input.sk-toggleable__control:checked~label.sk-toggleable__label-arrow:before {\n",
       "  content: \"▾\";\n",
       "}\n",
       "\n",
       "/* Pipeline/ColumnTransformer-specific style */\n",
       "\n",
       "#sk-container-id-2 div.sk-label input.sk-toggleable__control:checked~label.sk-toggleable__label {\n",
       "  color: var(--sklearn-color-text);\n",
       "  background-color: var(--sklearn-color-unfitted-level-2);\n",
       "}\n",
       "\n",
       "#sk-container-id-2 div.sk-label.fitted input.sk-toggleable__control:checked~label.sk-toggleable__label {\n",
       "  background-color: var(--sklearn-color-fitted-level-2);\n",
       "}\n",
       "\n",
       "/* Estimator-specific style */\n",
       "\n",
       "/* Colorize estimator box */\n",
       "#sk-container-id-2 div.sk-estimator input.sk-toggleable__control:checked~label.sk-toggleable__label {\n",
       "  /* unfitted */\n",
       "  background-color: var(--sklearn-color-unfitted-level-2);\n",
       "}\n",
       "\n",
       "#sk-container-id-2 div.sk-estimator.fitted input.sk-toggleable__control:checked~label.sk-toggleable__label {\n",
       "  /* fitted */\n",
       "  background-color: var(--sklearn-color-fitted-level-2);\n",
       "}\n",
       "\n",
       "#sk-container-id-2 div.sk-label label.sk-toggleable__label,\n",
       "#sk-container-id-2 div.sk-label label {\n",
       "  /* The background is the default theme color */\n",
       "  color: var(--sklearn-color-text-on-default-background);\n",
       "}\n",
       "\n",
       "/* On hover, darken the color of the background */\n",
       "#sk-container-id-2 div.sk-label:hover label.sk-toggleable__label {\n",
       "  color: var(--sklearn-color-text);\n",
       "  background-color: var(--sklearn-color-unfitted-level-2);\n",
       "}\n",
       "\n",
       "/* Label box, darken color on hover, fitted */\n",
       "#sk-container-id-2 div.sk-label.fitted:hover label.sk-toggleable__label.fitted {\n",
       "  color: var(--sklearn-color-text);\n",
       "  background-color: var(--sklearn-color-fitted-level-2);\n",
       "}\n",
       "\n",
       "/* Estimator label */\n",
       "\n",
       "#sk-container-id-2 div.sk-label label {\n",
       "  font-family: monospace;\n",
       "  font-weight: bold;\n",
       "  display: inline-block;\n",
       "  line-height: 1.2em;\n",
       "}\n",
       "\n",
       "#sk-container-id-2 div.sk-label-container {\n",
       "  text-align: center;\n",
       "}\n",
       "\n",
       "/* Estimator-specific */\n",
       "#sk-container-id-2 div.sk-estimator {\n",
       "  font-family: monospace;\n",
       "  border: 1px dotted var(--sklearn-color-border-box);\n",
       "  border-radius: 0.25em;\n",
       "  box-sizing: border-box;\n",
       "  margin-bottom: 0.5em;\n",
       "  /* unfitted */\n",
       "  background-color: var(--sklearn-color-unfitted-level-0);\n",
       "}\n",
       "\n",
       "#sk-container-id-2 div.sk-estimator.fitted {\n",
       "  /* fitted */\n",
       "  background-color: var(--sklearn-color-fitted-level-0);\n",
       "}\n",
       "\n",
       "/* on hover */\n",
       "#sk-container-id-2 div.sk-estimator:hover {\n",
       "  /* unfitted */\n",
       "  background-color: var(--sklearn-color-unfitted-level-2);\n",
       "}\n",
       "\n",
       "#sk-container-id-2 div.sk-estimator.fitted:hover {\n",
       "  /* fitted */\n",
       "  background-color: var(--sklearn-color-fitted-level-2);\n",
       "}\n",
       "\n",
       "/* Specification for estimator info (e.g. \"i\" and \"?\") */\n",
       "\n",
       "/* Common style for \"i\" and \"?\" */\n",
       "\n",
       ".sk-estimator-doc-link,\n",
       "a:link.sk-estimator-doc-link,\n",
       "a:visited.sk-estimator-doc-link {\n",
       "  float: right;\n",
       "  font-size: smaller;\n",
       "  line-height: 1em;\n",
       "  font-family: monospace;\n",
       "  background-color: var(--sklearn-color-background);\n",
       "  border-radius: 1em;\n",
       "  height: 1em;\n",
       "  width: 1em;\n",
       "  text-decoration: none !important;\n",
       "  margin-left: 0.5em;\n",
       "  text-align: center;\n",
       "  /* unfitted */\n",
       "  border: var(--sklearn-color-unfitted-level-1) 1pt solid;\n",
       "  color: var(--sklearn-color-unfitted-level-1);\n",
       "}\n",
       "\n",
       ".sk-estimator-doc-link.fitted,\n",
       "a:link.sk-estimator-doc-link.fitted,\n",
       "a:visited.sk-estimator-doc-link.fitted {\n",
       "  /* fitted */\n",
       "  border: var(--sklearn-color-fitted-level-1) 1pt solid;\n",
       "  color: var(--sklearn-color-fitted-level-1);\n",
       "}\n",
       "\n",
       "/* On hover */\n",
       "div.sk-estimator:hover .sk-estimator-doc-link:hover,\n",
       ".sk-estimator-doc-link:hover,\n",
       "div.sk-label-container:hover .sk-estimator-doc-link:hover,\n",
       ".sk-estimator-doc-link:hover {\n",
       "  /* unfitted */\n",
       "  background-color: var(--sklearn-color-unfitted-level-3);\n",
       "  color: var(--sklearn-color-background);\n",
       "  text-decoration: none;\n",
       "}\n",
       "\n",
       "div.sk-estimator.fitted:hover .sk-estimator-doc-link.fitted:hover,\n",
       ".sk-estimator-doc-link.fitted:hover,\n",
       "div.sk-label-container:hover .sk-estimator-doc-link.fitted:hover,\n",
       ".sk-estimator-doc-link.fitted:hover {\n",
       "  /* fitted */\n",
       "  background-color: var(--sklearn-color-fitted-level-3);\n",
       "  color: var(--sklearn-color-background);\n",
       "  text-decoration: none;\n",
       "}\n",
       "\n",
       "/* Span, style for the box shown on hovering the info icon */\n",
       ".sk-estimator-doc-link span {\n",
       "  display: none;\n",
       "  z-index: 9999;\n",
       "  position: relative;\n",
       "  font-weight: normal;\n",
       "  right: .2ex;\n",
       "  padding: .5ex;\n",
       "  margin: .5ex;\n",
       "  width: min-content;\n",
       "  min-width: 20ex;\n",
       "  max-width: 50ex;\n",
       "  color: var(--sklearn-color-text);\n",
       "  box-shadow: 2pt 2pt 4pt #999;\n",
       "  /* unfitted */\n",
       "  background: var(--sklearn-color-unfitted-level-0);\n",
       "  border: .5pt solid var(--sklearn-color-unfitted-level-3);\n",
       "}\n",
       "\n",
       ".sk-estimator-doc-link.fitted span {\n",
       "  /* fitted */\n",
       "  background: var(--sklearn-color-fitted-level-0);\n",
       "  border: var(--sklearn-color-fitted-level-3);\n",
       "}\n",
       "\n",
       ".sk-estimator-doc-link:hover span {\n",
       "  display: block;\n",
       "}\n",
       "\n",
       "/* \"?\"-specific style due to the `<a>` HTML tag */\n",
       "\n",
       "#sk-container-id-2 a.estimator_doc_link {\n",
       "  float: right;\n",
       "  font-size: 1rem;\n",
       "  line-height: 1em;\n",
       "  font-family: monospace;\n",
       "  background-color: var(--sklearn-color-background);\n",
       "  border-radius: 1rem;\n",
       "  height: 1rem;\n",
       "  width: 1rem;\n",
       "  text-decoration: none;\n",
       "  /* unfitted */\n",
       "  color: var(--sklearn-color-unfitted-level-1);\n",
       "  border: var(--sklearn-color-unfitted-level-1) 1pt solid;\n",
       "}\n",
       "\n",
       "#sk-container-id-2 a.estimator_doc_link.fitted {\n",
       "  /* fitted */\n",
       "  border: var(--sklearn-color-fitted-level-1) 1pt solid;\n",
       "  color: var(--sklearn-color-fitted-level-1);\n",
       "}\n",
       "\n",
       "/* On hover */\n",
       "#sk-container-id-2 a.estimator_doc_link:hover {\n",
       "  /* unfitted */\n",
       "  background-color: var(--sklearn-color-unfitted-level-3);\n",
       "  color: var(--sklearn-color-background);\n",
       "  text-decoration: none;\n",
       "}\n",
       "\n",
       "#sk-container-id-2 a.estimator_doc_link.fitted:hover {\n",
       "  /* fitted */\n",
       "  background-color: var(--sklearn-color-fitted-level-3);\n",
       "}\n",
       "</style><div id=\"sk-container-id-2\" class=\"sk-top-container\"><div class=\"sk-text-repr-fallback\"><pre>LogisticRegression()</pre><b>In a Jupyter environment, please rerun this cell to show the HTML representation or trust the notebook. <br />On GitHub, the HTML representation is unable to render, please try loading this page with nbviewer.org.</b></div><div class=\"sk-container\" hidden><div class=\"sk-item\"><div class=\"sk-estimator fitted sk-toggleable\"><input class=\"sk-toggleable__control sk-hidden--visually\" id=\"sk-estimator-id-2\" type=\"checkbox\" checked><label for=\"sk-estimator-id-2\" class=\"sk-toggleable__label fitted sk-toggleable__label-arrow\"><div><div>LogisticRegression</div></div><div><a class=\"sk-estimator-doc-link fitted\" rel=\"noreferrer\" target=\"_blank\" href=\"https://scikit-learn.org/1.6/modules/generated/sklearn.linear_model.LogisticRegression.html\">?<span>Documentation for LogisticRegression</span></a><span class=\"sk-estimator-doc-link fitted\">i<span>Fitted</span></span></div></label><div class=\"sk-toggleable__content fitted\"><pre>LogisticRegression()</pre></div> </div></div></div></div>"
      ],
      "text/plain": [
       "LogisticRegression()"
      ]
     },
     "execution_count": 155,
     "metadata": {},
     "output_type": "execute_result"
    }
   ],
   "source": [
    "lr.fit(x_train,y_train)"
   ]
  },
  {
   "cell_type": "code",
   "execution_count": 162,
   "id": "5efae8d9-ee14-4b14-9f2a-8c16222e3d26",
   "metadata": {},
   "outputs": [],
   "source": [
    "y_pred=lr.predict(x_test)"
   ]
  },
  {
   "cell_type": "code",
   "execution_count": 163,
   "id": "0eefee3a-5ec4-411c-9529-8cf6ee3121d3",
   "metadata": {},
   "outputs": [
    {
     "data": {
      "text/plain": [
       "array(['No', 'No', 'No', ..., 'No', 'No', 'No'],\n",
       "      shape=(2000,), dtype=object)"
      ]
     },
     "execution_count": 163,
     "metadata": {},
     "output_type": "execute_result"
    }
   ],
   "source": [
    "y_pred"
   ]
  },
  {
   "cell_type": "code",
   "execution_count": 158,
   "id": "e66e1340-2aa5-4274-8250-f77194c19246",
   "metadata": {},
   "outputs": [
    {
     "name": "stdout",
     "output_type": "stream",
     "text": [
      "Accuracy score  0.8065\n"
     ]
    }
   ],
   "source": [
    "print('Accuracy score ',accuracy_score(y_test,y_pred))"
   ]
  },
  {
   "cell_type": "code",
   "execution_count": 161,
   "id": "50b58016-d154-4107-921d-fb32ca8512b4",
   "metadata": {},
   "outputs": [
    {
     "data": {
      "text/plain": [
       "np.float64(0.8065)"
      ]
     },
     "execution_count": 161,
     "metadata": {},
     "output_type": "execute_result"
    }
   ],
   "source": [
    "cross_val_score(lr, x_test, y_test, cv = 10 ).mean()"
   ]
  },
  {
   "cell_type": "markdown",
   "id": "cab25524-0218-4cda-8b62-021196029e10",
   "metadata": {},
   "source": [
    "## Random Forest"
   ]
  },
  {
   "cell_type": "code",
   "execution_count": 166,
   "id": "8bfaf4b2-387b-4f31-ad65-c8da92f7ac4d",
   "metadata": {},
   "outputs": [
    {
     "data": {
      "text/html": [
       "<style>#sk-container-id-3 {\n",
       "  /* Definition of color scheme common for light and dark mode */\n",
       "  --sklearn-color-text: #000;\n",
       "  --sklearn-color-text-muted: #666;\n",
       "  --sklearn-color-line: gray;\n",
       "  /* Definition of color scheme for unfitted estimators */\n",
       "  --sklearn-color-unfitted-level-0: #fff5e6;\n",
       "  --sklearn-color-unfitted-level-1: #f6e4d2;\n",
       "  --sklearn-color-unfitted-level-2: #ffe0b3;\n",
       "  --sklearn-color-unfitted-level-3: chocolate;\n",
       "  /* Definition of color scheme for fitted estimators */\n",
       "  --sklearn-color-fitted-level-0: #f0f8ff;\n",
       "  --sklearn-color-fitted-level-1: #d4ebff;\n",
       "  --sklearn-color-fitted-level-2: #b3dbfd;\n",
       "  --sklearn-color-fitted-level-3: cornflowerblue;\n",
       "\n",
       "  /* Specific color for light theme */\n",
       "  --sklearn-color-text-on-default-background: var(--sg-text-color, var(--theme-code-foreground, var(--jp-content-font-color1, black)));\n",
       "  --sklearn-color-background: var(--sg-background-color, var(--theme-background, var(--jp-layout-color0, white)));\n",
       "  --sklearn-color-border-box: var(--sg-text-color, var(--theme-code-foreground, var(--jp-content-font-color1, black)));\n",
       "  --sklearn-color-icon: #696969;\n",
       "\n",
       "  @media (prefers-color-scheme: dark) {\n",
       "    /* Redefinition of color scheme for dark theme */\n",
       "    --sklearn-color-text-on-default-background: var(--sg-text-color, var(--theme-code-foreground, var(--jp-content-font-color1, white)));\n",
       "    --sklearn-color-background: var(--sg-background-color, var(--theme-background, var(--jp-layout-color0, #111)));\n",
       "    --sklearn-color-border-box: var(--sg-text-color, var(--theme-code-foreground, var(--jp-content-font-color1, white)));\n",
       "    --sklearn-color-icon: #878787;\n",
       "  }\n",
       "}\n",
       "\n",
       "#sk-container-id-3 {\n",
       "  color: var(--sklearn-color-text);\n",
       "}\n",
       "\n",
       "#sk-container-id-3 pre {\n",
       "  padding: 0;\n",
       "}\n",
       "\n",
       "#sk-container-id-3 input.sk-hidden--visually {\n",
       "  border: 0;\n",
       "  clip: rect(1px 1px 1px 1px);\n",
       "  clip: rect(1px, 1px, 1px, 1px);\n",
       "  height: 1px;\n",
       "  margin: -1px;\n",
       "  overflow: hidden;\n",
       "  padding: 0;\n",
       "  position: absolute;\n",
       "  width: 1px;\n",
       "}\n",
       "\n",
       "#sk-container-id-3 div.sk-dashed-wrapped {\n",
       "  border: 1px dashed var(--sklearn-color-line);\n",
       "  margin: 0 0.4em 0.5em 0.4em;\n",
       "  box-sizing: border-box;\n",
       "  padding-bottom: 0.4em;\n",
       "  background-color: var(--sklearn-color-background);\n",
       "}\n",
       "\n",
       "#sk-container-id-3 div.sk-container {\n",
       "  /* jupyter's `normalize.less` sets `[hidden] { display: none; }`\n",
       "     but bootstrap.min.css set `[hidden] { display: none !important; }`\n",
       "     so we also need the `!important` here to be able to override the\n",
       "     default hidden behavior on the sphinx rendered scikit-learn.org.\n",
       "     See: https://github.com/scikit-learn/scikit-learn/issues/21755 */\n",
       "  display: inline-block !important;\n",
       "  position: relative;\n",
       "}\n",
       "\n",
       "#sk-container-id-3 div.sk-text-repr-fallback {\n",
       "  display: none;\n",
       "}\n",
       "\n",
       "div.sk-parallel-item,\n",
       "div.sk-serial,\n",
       "div.sk-item {\n",
       "  /* draw centered vertical line to link estimators */\n",
       "  background-image: linear-gradient(var(--sklearn-color-text-on-default-background), var(--sklearn-color-text-on-default-background));\n",
       "  background-size: 2px 100%;\n",
       "  background-repeat: no-repeat;\n",
       "  background-position: center center;\n",
       "}\n",
       "\n",
       "/* Parallel-specific style estimator block */\n",
       "\n",
       "#sk-container-id-3 div.sk-parallel-item::after {\n",
       "  content: \"\";\n",
       "  width: 100%;\n",
       "  border-bottom: 2px solid var(--sklearn-color-text-on-default-background);\n",
       "  flex-grow: 1;\n",
       "}\n",
       "\n",
       "#sk-container-id-3 div.sk-parallel {\n",
       "  display: flex;\n",
       "  align-items: stretch;\n",
       "  justify-content: center;\n",
       "  background-color: var(--sklearn-color-background);\n",
       "  position: relative;\n",
       "}\n",
       "\n",
       "#sk-container-id-3 div.sk-parallel-item {\n",
       "  display: flex;\n",
       "  flex-direction: column;\n",
       "}\n",
       "\n",
       "#sk-container-id-3 div.sk-parallel-item:first-child::after {\n",
       "  align-self: flex-end;\n",
       "  width: 50%;\n",
       "}\n",
       "\n",
       "#sk-container-id-3 div.sk-parallel-item:last-child::after {\n",
       "  align-self: flex-start;\n",
       "  width: 50%;\n",
       "}\n",
       "\n",
       "#sk-container-id-3 div.sk-parallel-item:only-child::after {\n",
       "  width: 0;\n",
       "}\n",
       "\n",
       "/* Serial-specific style estimator block */\n",
       "\n",
       "#sk-container-id-3 div.sk-serial {\n",
       "  display: flex;\n",
       "  flex-direction: column;\n",
       "  align-items: center;\n",
       "  background-color: var(--sklearn-color-background);\n",
       "  padding-right: 1em;\n",
       "  padding-left: 1em;\n",
       "}\n",
       "\n",
       "\n",
       "/* Toggleable style: style used for estimator/Pipeline/ColumnTransformer box that is\n",
       "clickable and can be expanded/collapsed.\n",
       "- Pipeline and ColumnTransformer use this feature and define the default style\n",
       "- Estimators will overwrite some part of the style using the `sk-estimator` class\n",
       "*/\n",
       "\n",
       "/* Pipeline and ColumnTransformer style (default) */\n",
       "\n",
       "#sk-container-id-3 div.sk-toggleable {\n",
       "  /* Default theme specific background. It is overwritten whether we have a\n",
       "  specific estimator or a Pipeline/ColumnTransformer */\n",
       "  background-color: var(--sklearn-color-background);\n",
       "}\n",
       "\n",
       "/* Toggleable label */\n",
       "#sk-container-id-3 label.sk-toggleable__label {\n",
       "  cursor: pointer;\n",
       "  display: flex;\n",
       "  width: 100%;\n",
       "  margin-bottom: 0;\n",
       "  padding: 0.5em;\n",
       "  box-sizing: border-box;\n",
       "  text-align: center;\n",
       "  align-items: start;\n",
       "  justify-content: space-between;\n",
       "  gap: 0.5em;\n",
       "}\n",
       "\n",
       "#sk-container-id-3 label.sk-toggleable__label .caption {\n",
       "  font-size: 0.6rem;\n",
       "  font-weight: lighter;\n",
       "  color: var(--sklearn-color-text-muted);\n",
       "}\n",
       "\n",
       "#sk-container-id-3 label.sk-toggleable__label-arrow:before {\n",
       "  /* Arrow on the left of the label */\n",
       "  content: \"▸\";\n",
       "  float: left;\n",
       "  margin-right: 0.25em;\n",
       "  color: var(--sklearn-color-icon);\n",
       "}\n",
       "\n",
       "#sk-container-id-3 label.sk-toggleable__label-arrow:hover:before {\n",
       "  color: var(--sklearn-color-text);\n",
       "}\n",
       "\n",
       "/* Toggleable content - dropdown */\n",
       "\n",
       "#sk-container-id-3 div.sk-toggleable__content {\n",
       "  max-height: 0;\n",
       "  max-width: 0;\n",
       "  overflow: hidden;\n",
       "  text-align: left;\n",
       "  /* unfitted */\n",
       "  background-color: var(--sklearn-color-unfitted-level-0);\n",
       "}\n",
       "\n",
       "#sk-container-id-3 div.sk-toggleable__content.fitted {\n",
       "  /* fitted */\n",
       "  background-color: var(--sklearn-color-fitted-level-0);\n",
       "}\n",
       "\n",
       "#sk-container-id-3 div.sk-toggleable__content pre {\n",
       "  margin: 0.2em;\n",
       "  border-radius: 0.25em;\n",
       "  color: var(--sklearn-color-text);\n",
       "  /* unfitted */\n",
       "  background-color: var(--sklearn-color-unfitted-level-0);\n",
       "}\n",
       "\n",
       "#sk-container-id-3 div.sk-toggleable__content.fitted pre {\n",
       "  /* unfitted */\n",
       "  background-color: var(--sklearn-color-fitted-level-0);\n",
       "}\n",
       "\n",
       "#sk-container-id-3 input.sk-toggleable__control:checked~div.sk-toggleable__content {\n",
       "  /* Expand drop-down */\n",
       "  max-height: 200px;\n",
       "  max-width: 100%;\n",
       "  overflow: auto;\n",
       "}\n",
       "\n",
       "#sk-container-id-3 input.sk-toggleable__control:checked~label.sk-toggleable__label-arrow:before {\n",
       "  content: \"▾\";\n",
       "}\n",
       "\n",
       "/* Pipeline/ColumnTransformer-specific style */\n",
       "\n",
       "#sk-container-id-3 div.sk-label input.sk-toggleable__control:checked~label.sk-toggleable__label {\n",
       "  color: var(--sklearn-color-text);\n",
       "  background-color: var(--sklearn-color-unfitted-level-2);\n",
       "}\n",
       "\n",
       "#sk-container-id-3 div.sk-label.fitted input.sk-toggleable__control:checked~label.sk-toggleable__label {\n",
       "  background-color: var(--sklearn-color-fitted-level-2);\n",
       "}\n",
       "\n",
       "/* Estimator-specific style */\n",
       "\n",
       "/* Colorize estimator box */\n",
       "#sk-container-id-3 div.sk-estimator input.sk-toggleable__control:checked~label.sk-toggleable__label {\n",
       "  /* unfitted */\n",
       "  background-color: var(--sklearn-color-unfitted-level-2);\n",
       "}\n",
       "\n",
       "#sk-container-id-3 div.sk-estimator.fitted input.sk-toggleable__control:checked~label.sk-toggleable__label {\n",
       "  /* fitted */\n",
       "  background-color: var(--sklearn-color-fitted-level-2);\n",
       "}\n",
       "\n",
       "#sk-container-id-3 div.sk-label label.sk-toggleable__label,\n",
       "#sk-container-id-3 div.sk-label label {\n",
       "  /* The background is the default theme color */\n",
       "  color: var(--sklearn-color-text-on-default-background);\n",
       "}\n",
       "\n",
       "/* On hover, darken the color of the background */\n",
       "#sk-container-id-3 div.sk-label:hover label.sk-toggleable__label {\n",
       "  color: var(--sklearn-color-text);\n",
       "  background-color: var(--sklearn-color-unfitted-level-2);\n",
       "}\n",
       "\n",
       "/* Label box, darken color on hover, fitted */\n",
       "#sk-container-id-3 div.sk-label.fitted:hover label.sk-toggleable__label.fitted {\n",
       "  color: var(--sklearn-color-text);\n",
       "  background-color: var(--sklearn-color-fitted-level-2);\n",
       "}\n",
       "\n",
       "/* Estimator label */\n",
       "\n",
       "#sk-container-id-3 div.sk-label label {\n",
       "  font-family: monospace;\n",
       "  font-weight: bold;\n",
       "  display: inline-block;\n",
       "  line-height: 1.2em;\n",
       "}\n",
       "\n",
       "#sk-container-id-3 div.sk-label-container {\n",
       "  text-align: center;\n",
       "}\n",
       "\n",
       "/* Estimator-specific */\n",
       "#sk-container-id-3 div.sk-estimator {\n",
       "  font-family: monospace;\n",
       "  border: 1px dotted var(--sklearn-color-border-box);\n",
       "  border-radius: 0.25em;\n",
       "  box-sizing: border-box;\n",
       "  margin-bottom: 0.5em;\n",
       "  /* unfitted */\n",
       "  background-color: var(--sklearn-color-unfitted-level-0);\n",
       "}\n",
       "\n",
       "#sk-container-id-3 div.sk-estimator.fitted {\n",
       "  /* fitted */\n",
       "  background-color: var(--sklearn-color-fitted-level-0);\n",
       "}\n",
       "\n",
       "/* on hover */\n",
       "#sk-container-id-3 div.sk-estimator:hover {\n",
       "  /* unfitted */\n",
       "  background-color: var(--sklearn-color-unfitted-level-2);\n",
       "}\n",
       "\n",
       "#sk-container-id-3 div.sk-estimator.fitted:hover {\n",
       "  /* fitted */\n",
       "  background-color: var(--sklearn-color-fitted-level-2);\n",
       "}\n",
       "\n",
       "/* Specification for estimator info (e.g. \"i\" and \"?\") */\n",
       "\n",
       "/* Common style for \"i\" and \"?\" */\n",
       "\n",
       ".sk-estimator-doc-link,\n",
       "a:link.sk-estimator-doc-link,\n",
       "a:visited.sk-estimator-doc-link {\n",
       "  float: right;\n",
       "  font-size: smaller;\n",
       "  line-height: 1em;\n",
       "  font-family: monospace;\n",
       "  background-color: var(--sklearn-color-background);\n",
       "  border-radius: 1em;\n",
       "  height: 1em;\n",
       "  width: 1em;\n",
       "  text-decoration: none !important;\n",
       "  margin-left: 0.5em;\n",
       "  text-align: center;\n",
       "  /* unfitted */\n",
       "  border: var(--sklearn-color-unfitted-level-1) 1pt solid;\n",
       "  color: var(--sklearn-color-unfitted-level-1);\n",
       "}\n",
       "\n",
       ".sk-estimator-doc-link.fitted,\n",
       "a:link.sk-estimator-doc-link.fitted,\n",
       "a:visited.sk-estimator-doc-link.fitted {\n",
       "  /* fitted */\n",
       "  border: var(--sklearn-color-fitted-level-1) 1pt solid;\n",
       "  color: var(--sklearn-color-fitted-level-1);\n",
       "}\n",
       "\n",
       "/* On hover */\n",
       "div.sk-estimator:hover .sk-estimator-doc-link:hover,\n",
       ".sk-estimator-doc-link:hover,\n",
       "div.sk-label-container:hover .sk-estimator-doc-link:hover,\n",
       ".sk-estimator-doc-link:hover {\n",
       "  /* unfitted */\n",
       "  background-color: var(--sklearn-color-unfitted-level-3);\n",
       "  color: var(--sklearn-color-background);\n",
       "  text-decoration: none;\n",
       "}\n",
       "\n",
       "div.sk-estimator.fitted:hover .sk-estimator-doc-link.fitted:hover,\n",
       ".sk-estimator-doc-link.fitted:hover,\n",
       "div.sk-label-container:hover .sk-estimator-doc-link.fitted:hover,\n",
       ".sk-estimator-doc-link.fitted:hover {\n",
       "  /* fitted */\n",
       "  background-color: var(--sklearn-color-fitted-level-3);\n",
       "  color: var(--sklearn-color-background);\n",
       "  text-decoration: none;\n",
       "}\n",
       "\n",
       "/* Span, style for the box shown on hovering the info icon */\n",
       ".sk-estimator-doc-link span {\n",
       "  display: none;\n",
       "  z-index: 9999;\n",
       "  position: relative;\n",
       "  font-weight: normal;\n",
       "  right: .2ex;\n",
       "  padding: .5ex;\n",
       "  margin: .5ex;\n",
       "  width: min-content;\n",
       "  min-width: 20ex;\n",
       "  max-width: 50ex;\n",
       "  color: var(--sklearn-color-text);\n",
       "  box-shadow: 2pt 2pt 4pt #999;\n",
       "  /* unfitted */\n",
       "  background: var(--sklearn-color-unfitted-level-0);\n",
       "  border: .5pt solid var(--sklearn-color-unfitted-level-3);\n",
       "}\n",
       "\n",
       ".sk-estimator-doc-link.fitted span {\n",
       "  /* fitted */\n",
       "  background: var(--sklearn-color-fitted-level-0);\n",
       "  border: var(--sklearn-color-fitted-level-3);\n",
       "}\n",
       "\n",
       ".sk-estimator-doc-link:hover span {\n",
       "  display: block;\n",
       "}\n",
       "\n",
       "/* \"?\"-specific style due to the `<a>` HTML tag */\n",
       "\n",
       "#sk-container-id-3 a.estimator_doc_link {\n",
       "  float: right;\n",
       "  font-size: 1rem;\n",
       "  line-height: 1em;\n",
       "  font-family: monospace;\n",
       "  background-color: var(--sklearn-color-background);\n",
       "  border-radius: 1rem;\n",
       "  height: 1rem;\n",
       "  width: 1rem;\n",
       "  text-decoration: none;\n",
       "  /* unfitted */\n",
       "  color: var(--sklearn-color-unfitted-level-1);\n",
       "  border: var(--sklearn-color-unfitted-level-1) 1pt solid;\n",
       "}\n",
       "\n",
       "#sk-container-id-3 a.estimator_doc_link.fitted {\n",
       "  /* fitted */\n",
       "  border: var(--sklearn-color-fitted-level-1) 1pt solid;\n",
       "  color: var(--sklearn-color-fitted-level-1);\n",
       "}\n",
       "\n",
       "/* On hover */\n",
       "#sk-container-id-3 a.estimator_doc_link:hover {\n",
       "  /* unfitted */\n",
       "  background-color: var(--sklearn-color-unfitted-level-3);\n",
       "  color: var(--sklearn-color-background);\n",
       "  text-decoration: none;\n",
       "}\n",
       "\n",
       "#sk-container-id-3 a.estimator_doc_link.fitted:hover {\n",
       "  /* fitted */\n",
       "  background-color: var(--sklearn-color-fitted-level-3);\n",
       "}\n",
       "</style><div id=\"sk-container-id-3\" class=\"sk-top-container\"><div class=\"sk-text-repr-fallback\"><pre>RandomForestClassifier(random_state=42)</pre><b>In a Jupyter environment, please rerun this cell to show the HTML representation or trust the notebook. <br />On GitHub, the HTML representation is unable to render, please try loading this page with nbviewer.org.</b></div><div class=\"sk-container\" hidden><div class=\"sk-item\"><div class=\"sk-estimator fitted sk-toggleable\"><input class=\"sk-toggleable__control sk-hidden--visually\" id=\"sk-estimator-id-3\" type=\"checkbox\" checked><label for=\"sk-estimator-id-3\" class=\"sk-toggleable__label fitted sk-toggleable__label-arrow\"><div><div>RandomForestClassifier</div></div><div><a class=\"sk-estimator-doc-link fitted\" rel=\"noreferrer\" target=\"_blank\" href=\"https://scikit-learn.org/1.6/modules/generated/sklearn.ensemble.RandomForestClassifier.html\">?<span>Documentation for RandomForestClassifier</span></a><span class=\"sk-estimator-doc-link fitted\">i<span>Fitted</span></span></div></label><div class=\"sk-toggleable__content fitted\"><pre>RandomForestClassifier(random_state=42)</pre></div> </div></div></div></div>"
      ],
      "text/plain": [
       "RandomForestClassifier(random_state=42)"
      ]
     },
     "execution_count": 166,
     "metadata": {},
     "output_type": "execute_result"
    }
   ],
   "source": [
    "model = RandomForestClassifier(n_estimators=100, random_state=42)\n",
    "model.fit(x_train, y_train)"
   ]
  },
  {
   "cell_type": "code",
   "execution_count": 169,
   "id": "acfb0bd7-d38b-412b-9a0f-8d1375971a3f",
   "metadata": {},
   "outputs": [
    {
     "data": {
      "text/plain": [
       "array(['No', 'No', 'No', ..., 'No', 'No', 'No'],\n",
       "      shape=(2000,), dtype=object)"
      ]
     },
     "execution_count": 169,
     "metadata": {},
     "output_type": "execute_result"
    }
   ],
   "source": [
    "y_pred = model.predict(x_test)\n",
    "y_pred"
   ]
  },
  {
   "cell_type": "markdown",
   "id": "0fbc6962-f69c-4fbc-91c8-9e6069f6e0dc",
   "metadata": {},
   "source": [
    "## model evaluation"
   ]
  },
  {
   "cell_type": "code",
   "execution_count": 171,
   "id": "d6070121-be83-4546-b0c4-36711316d7fa",
   "metadata": {},
   "outputs": [
    {
     "name": "stdout",
     "output_type": "stream",
     "text": [
      "Accuracy: 0.8065\n"
     ]
    }
   ],
   "source": [
    "print(\"Accuracy:\", accuracy_score(y_test, y_pred))"
   ]
  },
  {
   "cell_type": "code",
   "execution_count": 173,
   "id": "4a5e457f-71fe-4a83-b612-e6e3aef7b218",
   "metadata": {},
   "outputs": [
    {
     "name": "stdout",
     "output_type": "stream",
     "text": [
      "\n",
      "Confusion Matrix:\n",
      " [[1613    0]\n",
      " [ 387    0]]\n"
     ]
    }
   ],
   "source": [
    "print(\"\\nConfusion Matrix:\\n\", confusion_matrix(y_test, y_pred))"
   ]
  },
  {
   "cell_type": "code",
   "execution_count": 174,
   "id": "2ce18ede-d83f-4c75-b1eb-95483fa591d1",
   "metadata": {},
   "outputs": [
    {
     "name": "stdout",
     "output_type": "stream",
     "text": [
      "\n",
      "Classification Report:\n",
      "               precision    recall  f1-score   support\n",
      "\n",
      "          No       0.81      1.00      0.89      1613\n",
      "         Yes       0.00      0.00      0.00       387\n",
      "\n",
      "    accuracy                           0.81      2000\n",
      "   macro avg       0.40      0.50      0.45      2000\n",
      "weighted avg       0.65      0.81      0.72      2000\n",
      "\n"
     ]
    }
   ],
   "source": [
    "print(\"\\nClassification Report:\\n\", classification_report(y_test, y_pred))"
   ]
  },
  {
   "cell_type": "markdown",
   "id": "44f51ce0-6fb2-4215-9d02-2be36fbba9f2",
   "metadata": {},
   "source": [
    "### Naive Bayes¶\n",
    "- Model Introduction N\n",
    "- Why Naive Bayes?\n",
    "      Naive Bayes is one of the simplest yet surprisingly powerful classification algorithms based on Bayes' Theorem. Despite its simplicity, it performs remarkably well in many real-world situations."
   ]
  },
  {
   "cell_type": "code",
   "execution_count": 116,
   "id": "b994c2d7-2f24-41f4-ac9f-ea607ba355f6",
   "metadata": {},
   "outputs": [],
   "source": [
    "Naive_model = GaussianNB().fit(x_train,y_train)"
   ]
  },
  {
   "cell_type": "code",
   "execution_count": 117,
   "id": "f559768e-f890-4b8d-8125-f2364c8d51f8",
   "metadata": {},
   "outputs": [
    {
     "data": {
      "text/plain": [
       "{'priors': None, 'var_smoothing': 1e-09}"
      ]
     },
     "execution_count": 117,
     "metadata": {},
     "output_type": "execute_result"
    }
   ],
   "source": [
    "Naive_model.get_params()"
   ]
  },
  {
   "cell_type": "code",
   "execution_count": 118,
   "id": "3bfc0935-ab9f-4f55-9501-b1e6eafab49c",
   "metadata": {},
   "outputs": [
    {
     "data": {
      "text/plain": [
       "array([[0.80008163, 0.19991837],\n",
       "       [0.78494784, 0.21505216],\n",
       "       [0.84194966, 0.15805034],\n",
       "       ...,\n",
       "       [0.82483468, 0.17516532],\n",
       "       [0.74277282, 0.25722718],\n",
       "       [0.79206893, 0.20793107]], shape=(2000, 2))"
      ]
     },
     "execution_count": 118,
     "metadata": {},
     "output_type": "execute_result"
    }
   ],
   "source": [
    "Naive_model.predict_proba(x_test)"
   ]
  },
  {
   "cell_type": "code",
   "execution_count": 119,
   "id": "ed2830ed-8f5e-4395-98c6-74bdaa2df2f6",
   "metadata": {},
   "outputs": [],
   "source": [
    "y_pred = Naive_model.predict(x_test)"
   ]
  },
  {
   "cell_type": "code",
   "execution_count": 120,
   "id": "2f866501-f390-4498-9683-4f97caf48afe",
   "metadata": {},
   "outputs": [
    {
     "data": {
      "text/plain": [
       "array(['No', 'No', 'No', ..., 'No', 'No', 'No'],\n",
       "      shape=(2000,), dtype='<U3')"
      ]
     },
     "execution_count": 120,
     "metadata": {},
     "output_type": "execute_result"
    }
   ],
   "source": [
    "y_pred"
   ]
  },
  {
   "cell_type": "markdown",
   "id": "95e98a8a-3455-459a-89e0-fca9d71363f1",
   "metadata": {},
   "source": [
    "## Performance Metrics N"
   ]
  },
  {
   "cell_type": "code",
   "execution_count": 121,
   "id": "da727091-ad12-4696-a50c-efaf68d2f67c",
   "metadata": {},
   "outputs": [
    {
     "data": {
      "text/plain": [
       "0.8065"
      ]
     },
     "execution_count": 121,
     "metadata": {},
     "output_type": "execute_result"
    }
   ],
   "source": [
    "accuracy_score(y_test, y_pred) "
   ]
  },
  {
   "cell_type": "code",
   "execution_count": 122,
   "id": "a7e4442d-9aab-488d-9e45-9bc909e4becf",
   "metadata": {},
   "outputs": [
    {
     "data": {
      "text/plain": [
       "np.float64(0.8065)"
      ]
     },
     "execution_count": 122,
     "metadata": {},
     "output_type": "execute_result"
    }
   ],
   "source": [
    "cross_val_score(Naive_model , x_test, y_test, cv = 10 ).mean()"
   ]
  },
  {
   "cell_type": "code",
   "execution_count": 123,
   "id": "bc89e4ed-1ca2-4b41-b004-c3b8db392140",
   "metadata": {},
   "outputs": [
    {
     "name": "stdout",
     "output_type": "stream",
     "text": [
      "              precision    recall  f1-score   support\n",
      "\n",
      "          No       0.81      1.00      0.89      1613\n",
      "         Yes       0.00      0.00      0.00       387\n",
      "\n",
      "    accuracy                           0.81      2000\n",
      "   macro avg       0.40      0.50      0.45      2000\n",
      "weighted avg       0.65      0.81      0.72      2000\n",
      "\n"
     ]
    }
   ],
   "source": [
    "print(classification_report(y_test,y_pred))"
   ]
  },
  {
   "cell_type": "markdown",
   "id": "cb83e3ec-4267-4c48-bf3f-f15d5c63dd75",
   "metadata": {},
   "source": [
    "### ROC Curve and Confusion Matrix N"
   ]
  },
  {
   "cell_type": "code",
   "execution_count": 124,
   "id": "601ed153-fe9a-4862-ae8d-d324bf346cf5",
   "metadata": {},
   "outputs": [
    {
     "data": {
      "text/plain": [
       "array([[1613,    0],\n",
       "       [ 387,    0]])"
      ]
     },
     "execution_count": 124,
     "metadata": {},
     "output_type": "execute_result"
    }
   ],
   "source": [
    "confusion_matrix(y_test,y_pred)"
   ]
  },
  {
   "cell_type": "code",
   "execution_count": 125,
   "id": "57a2ae3f-fbf7-4229-93e7-27527410fa6b",
   "metadata": {},
   "outputs": [],
   "source": [
    "le = LabelEncoder()\n",
    "y_test_encode = le.fit_transform(y_test)\n",
    "y_pred_encode = le.transform(Naive_model.predict(x_test))"
   ]
  },
  {
   "cell_type": "code",
   "execution_count": 126,
   "id": "c31c3bb5-f74a-4b36-bd1c-a1704a802537",
   "metadata": {},
   "outputs": [
    {
     "data": {
      "image/png": "[encoded data removed]",
      "text/plain": [
       "<Figure size 640x480 with 1 Axes>"
      ]
     },
     "metadata": {},
     "output_type": "display_data"
    }
   ],
   "source": [
    "naive_roc_auc = roc_auc_score(y_test_encode, y_pred_encode)\n",
    "\n",
    "fpr, tpr, thresholds = roc_curve(y_test_encode, Naive_model.predict_proba(x_test)[:,1])\n",
    "\n",
    "plt.figure()\n",
    "plt.plot(fpr, tpr, label = \"AUC (area = %0.2f)\" % naive_roc_auc)\n",
    "plt.plot([0,1], [0,1], \"r--\")\n",
    "plt.xlim([0.0,1.0])\n",
    "plt.ylim([0.0,1.05])\n",
    "plt.xlabel(\"False Positive Rate\")\n",
    "plt.ylabel(\"True Positive Rate\")\n",
    "plt.title(\"ROC Curve\")\n",
    "plt.legend(loc=\"lower right\")\n",
    "plt.show()"
   ]
  },
  {
   "cell_type": "markdown",
   "id": "6e460b1d-ef77-4152-80e6-6eef0188df56",
   "metadata": {},
   "source": [
    "### Performance Metrics\n",
    "-   Accuracy: 0.8065\n",
    "-   Cross-Validation Score (10-Fold): 0.806\n",
    "-   Precision (No / Yes): 0.81 / 0.00\n",
    "-   Recall (No / Yes): 1.00 / 0.00\n",
    "-   F1-Score (No / Yes): 0.89 / 0.00\n",
    "-   Support (No / Yes): 1613 / 387"
   ]
  },
  {
   "cell_type": "markdown",
   "id": "36106da8-4223-49c0-99b4-a11b2c849026",
   "metadata": {},
   "source": [
    "### ROC Curve & Confusion Matrix\n",
    "- ROC AUC Score: 0.50\n",
    "- ROC Curve: Indicates random guessing\n",
    "- Confusion Matrix:"
   ]
  },
  {
   "cell_type": "markdown",
   "id": "34cd8f84-bbec-40c2-bb30-da2f6635283f",
   "metadata": {},
   "source": [
    "## SVC model"
   ]
  },
  {
   "cell_type": "code",
   "execution_count": 127,
   "id": "36014e76-c9d7-494c-9080-878d2af6a910",
   "metadata": {},
   "outputs": [],
   "source": [
    "Svc_model = SVC(kernel = \"rbf\" , class_weight = \"balanced\",probability = True).fit(x_train,y_train)"
   ]
  },
  {
   "cell_type": "code",
   "execution_count": 128,
   "id": "7fc4f8dd-edeb-4908-8a20-2fd439678f01",
   "metadata": {},
   "outputs": [
    {
     "data": {
      "text/plain": [
       "array([[0.79191991, 0.20808009],\n",
       "       [0.79327768, 0.20672232],\n",
       "       [0.80132019, 0.19867981],\n",
       "       ...,\n",
       "       [0.79884764, 0.20115236],\n",
       "       [0.79771641, 0.20228359],\n",
       "       [0.79763035, 0.20236965]], shape=(2000, 2))"
      ]
     },
     "execution_count": 128,
     "metadata": {},
     "output_type": "execute_result"
    }
   ],
   "source": [
    "Svc_model.predict_proba(x_test)"
   ]
  },
  {
   "cell_type": "code",
   "execution_count": 129,
   "id": "b9e737de-83a6-4fd9-ae58-b5d6ca19e95a",
   "metadata": {},
   "outputs": [],
   "source": [
    "y_pred = Svc_model.predict(x_test)"
   ]
  },
  {
   "cell_type": "code",
   "execution_count": 130,
   "id": "ce1a5c71-912d-4506-9fac-fa20a1265744",
   "metadata": {},
   "outputs": [
    {
     "data": {
      "text/plain": [
       "array(['Yes', 'Yes', 'No', ..., 'No', 'No', 'No'],\n",
       "      shape=(2000,), dtype=object)"
      ]
     },
     "execution_count": 130,
     "metadata": {},
     "output_type": "execute_result"
    }
   ],
   "source": [
    "y_pred"
   ]
  },
  {
   "cell_type": "markdown",
   "id": "97433b66-8c9c-487f-b7da-08f35e0bf206",
   "metadata": {},
   "source": [
    "### Performance Metrics "
   ]
  },
  {
   "cell_type": "code",
   "execution_count": 131,
   "id": "c0c00916-4ed5-4449-bcd1-56c4515c63d6",
   "metadata": {},
   "outputs": [
    {
     "data": {
      "text/plain": [
       "0.555"
      ]
     },
     "execution_count": 131,
     "metadata": {},
     "output_type": "execute_result"
    }
   ],
   "source": [
    "accuracy_score(y_test,y_pred) "
   ]
  },
  {
   "cell_type": "code",
   "execution_count": 132,
   "id": "18852573-2f04-4ca0-8fee-725bf0496911",
   "metadata": {},
   "outputs": [
    {
     "data": {
      "text/plain": [
       "np.float64(0.6045)"
      ]
     },
     "execution_count": 132,
     "metadata": {},
     "output_type": "execute_result"
    }
   ],
   "source": [
    "cross_val_score(Svc_model , x_test, y_test, cv = 10 ).mean()"
   ]
  },
  {
   "cell_type": "code",
   "execution_count": 133,
   "id": "10873e4f-3737-4003-8722-b491164350dd",
   "metadata": {},
   "outputs": [
    {
     "name": "stdout",
     "output_type": "stream",
     "text": [
      "              precision    recall  f1-score   support\n",
      "\n",
      "          No       0.81      0.59      0.68      1613\n",
      "         Yes       0.20      0.43      0.27       387\n",
      "\n",
      "    accuracy                           0.56      2000\n",
      "   macro avg       0.50      0.51      0.48      2000\n",
      "weighted avg       0.69      0.56      0.60      2000\n",
      "\n"
     ]
    }
   ],
   "source": [
    "print(classification_report(y_test,y_pred))"
   ]
  },
  {
   "cell_type": "code",
   "execution_count": 134,
   "id": "2bd7836e-04ff-4a5b-9c71-7d81aba0d2da",
   "metadata": {},
   "outputs": [
    {
     "data": {
      "text/plain": [
       "array([[944, 669],\n",
       "       [221, 166]])"
      ]
     },
     "execution_count": 134,
     "metadata": {},
     "output_type": "execute_result"
    }
   ],
   "source": [
    "confusion_matrix(y_test,y_pred)"
   ]
  },
  {
   "cell_type": "markdown",
   "id": "0828ab3f-c33b-44ae-858e-7f60f74fbe5e",
   "metadata": {},
   "source": [
    "### conculision"
   ]
  },
  {
   "cell_type": "markdown",
   "id": "3e295ef1-2ef2-434d-8242-103d63740606",
   "metadata": {},
   "source": [
    "- Although the SVC model provided improved F1-Score and Recall metrics compared to Naive Bayes, the overall model performance is still unsatisfactory. The ROC-AUC score remains close to 0.50, indicating that the model is no better than random guessing in distinguishing between the positive and negative classes."
   ]
  },
  {
   "cell_type": "markdown",
   "id": "39d3751f-9c0c-420b-a8ff-0b0b4ae17698",
   "metadata": {},
   "source": [
    "## XGBoost"
   ]
  },
  {
   "cell_type": "code",
   "execution_count": 139,
   "id": "e0df3259-d895-42d2-97f5-613105fb43b0",
   "metadata": {},
   "outputs": [],
   "source": [
    "smote = SMOTE(random_state=42)\n",
    "x_train_smote, y_train_smote = smote.fit_resample(x_train, y_train)"
   ]
  },
  {
   "cell_type": "code",
   "execution_count": 140,
   "id": "965bfa06-0b6b-4820-9523-35cb003153fa",
   "metadata": {},
   "outputs": [
    {
     "name": "stdout",
     "output_type": "stream",
     "text": [
      "Before SMOTE: Counter({'No': 6387, 'Yes': 1613})\n",
      "After SMOTE: Counter({'Yes': 6387, 'No': 6387})\n"
     ]
    }
   ],
   "source": [
    "print(\"Before SMOTE:\", Counter(y_train))\n",
    "print(\"After SMOTE:\", Counter(y_train_smote))"
   ]
  },
  {
   "cell_type": "code",
   "execution_count": 141,
   "id": "09c56279-2d5f-485b-b451-c43d48258093",
   "metadata": {},
   "outputs": [],
   "source": [
    "y_train_encode = le.fit_transform(y_train_smote)"
   ]
  },
  {
   "cell_type": "code",
   "execution_count": 142,
   "id": "bc499b38-2484-4dd6-99b6-2b098d350819",
   "metadata": {},
   "outputs": [
    {
     "data": {
      "text/html": [
       "<style>#sk-container-id-1 {\n",
       "  /* Definition of color scheme common for light and dark mode */\n",
       "  --sklearn-color-text: #000;\n",
       "  --sklearn-color-text-muted: #666;\n",
       "  --sklearn-color-line: gray;\n",
       "  /* Definition of color scheme for unfitted estimators */\n",
       "  --sklearn-color-unfitted-level-0: #fff5e6;\n",
       "  --sklearn-color-unfitted-level-1: #f6e4d2;\n",
       "  --sklearn-color-unfitted-level-2: #ffe0b3;\n",
       "  --sklearn-color-unfitted-level-3: chocolate;\n",
       "  /* Definition of color scheme for fitted estimators */\n",
       "  --sklearn-color-fitted-level-0: #f0f8ff;\n",
       "  --sklearn-color-fitted-level-1: #d4ebff;\n",
       "  --sklearn-color-fitted-level-2: #b3dbfd;\n",
       "  --sklearn-color-fitted-level-3: cornflowerblue;\n",
       "\n",
       "  /* Specific color for light theme */\n",
       "  --sklearn-color-text-on-default-background: var(--sg-text-color, var(--theme-code-foreground, var(--jp-content-font-color1, black)));\n",
       "  --sklearn-color-background: var(--sg-background-color, var(--theme-background, var(--jp-layout-color0, white)));\n",
       "  --sklearn-color-border-box: var(--sg-text-color, var(--theme-code-foreground, var(--jp-content-font-color1, black)));\n",
       "  --sklearn-color-icon: #696969;\n",
       "\n",
       "  @media (prefers-color-scheme: dark) {\n",
       "    /* Redefinition of color scheme for dark theme */\n",
       "    --sklearn-color-text-on-default-background: var(--sg-text-color, var(--theme-code-foreground, var(--jp-content-font-color1, white)));\n",
       "    --sklearn-color-background: var(--sg-background-color, var(--theme-background, var(--jp-layout-color0, #111)));\n",
       "    --sklearn-color-border-box: var(--sg-text-color, var(--theme-code-foreground, var(--jp-content-font-color1, white)));\n",
       "    --sklearn-color-icon: #878787;\n",
       "  }\n",
       "}\n",
       "\n",
       "#sk-container-id-1 {\n",
       "  color: var(--sklearn-color-text);\n",
       "}\n",
       "\n",
       "#sk-container-id-1 pre {\n",
       "  padding: 0;\n",
       "}\n",
       "\n",
       "#sk-container-id-1 input.sk-hidden--visually {\n",
       "  border: 0;\n",
       "  clip: rect(1px 1px 1px 1px);\n",
       "  clip: rect(1px, 1px, 1px, 1px);\n",
       "  height: 1px;\n",
       "  margin: -1px;\n",
       "  overflow: hidden;\n",
       "  padding: 0;\n",
       "  position: absolute;\n",
       "  width: 1px;\n",
       "}\n",
       "\n",
       "#sk-container-id-1 div.sk-dashed-wrapped {\n",
       "  border: 1px dashed var(--sklearn-color-line);\n",
       "  margin: 0 0.4em 0.5em 0.4em;\n",
       "  box-sizing: border-box;\n",
       "  padding-bottom: 0.4em;\n",
       "  background-color: var(--sklearn-color-background);\n",
       "}\n",
       "\n",
       "#sk-container-id-1 div.sk-container {\n",
       "  /* jupyter's `normalize.less` sets `[hidden] { display: none; }`\n",
       "     but bootstrap.min.css set `[hidden] { display: none !important; }`\n",
       "     so we also need the `!important` here to be able to override the\n",
       "     default hidden behavior on the sphinx rendered scikit-learn.org.\n",
       "     See: https://github.com/scikit-learn/scikit-learn/issues/21755 */\n",
       "  display: inline-block !important;\n",
       "  position: relative;\n",
       "}\n",
       "\n",
       "#sk-container-id-1 div.sk-text-repr-fallback {\n",
       "  display: none;\n",
       "}\n",
       "\n",
       "div.sk-parallel-item,\n",
       "div.sk-serial,\n",
       "div.sk-item {\n",
       "  /* draw centered vertical line to link estimators */\n",
       "  background-image: linear-gradient(var(--sklearn-color-text-on-default-background), var(--sklearn-color-text-on-default-background));\n",
       "  background-size: 2px 100%;\n",
       "  background-repeat: no-repeat;\n",
       "  background-position: center center;\n",
       "}\n",
       "\n",
       "/* Parallel-specific style estimator block */\n",
       "\n",
       "#sk-container-id-1 div.sk-parallel-item::after {\n",
       "  content: \"\";\n",
       "  width: 100%;\n",
       "  border-bottom: 2px solid var(--sklearn-color-text-on-default-background);\n",
       "  flex-grow: 1;\n",
       "}\n",
       "\n",
       "#sk-container-id-1 div.sk-parallel {\n",
       "  display: flex;\n",
       "  align-items: stretch;\n",
       "  justify-content: center;\n",
       "  background-color: var(--sklearn-color-background);\n",
       "  position: relative;\n",
       "}\n",
       "\n",
       "#sk-container-id-1 div.sk-parallel-item {\n",
       "  display: flex;\n",
       "  flex-direction: column;\n",
       "}\n",
       "\n",
       "#sk-container-id-1 div.sk-parallel-item:first-child::after {\n",
       "  align-self: flex-end;\n",
       "  width: 50%;\n",
       "}\n",
       "\n",
       "#sk-container-id-1 div.sk-parallel-item:last-child::after {\n",
       "  align-self: flex-start;\n",
       "  width: 50%;\n",
       "}\n",
       "\n",
       "#sk-container-id-1 div.sk-parallel-item:only-child::after {\n",
       "  width: 0;\n",
       "}\n",
       "\n",
       "/* Serial-specific style estimator block */\n",
       "\n",
       "#sk-container-id-1 div.sk-serial {\n",
       "  display: flex;\n",
       "  flex-direction: column;\n",
       "  align-items: center;\n",
       "  background-color: var(--sklearn-color-background);\n",
       "  padding-right: 1em;\n",
       "  padding-left: 1em;\n",
       "}\n",
       "\n",
       "\n",
       "/* Toggleable style: style used for estimator/Pipeline/ColumnTransformer box that is\n",
       "clickable and can be expanded/collapsed.\n",
       "- Pipeline and ColumnTransformer use this feature and define the default style\n",
       "- Estimators will overwrite some part of the style using the `sk-estimator` class\n",
       "*/\n",
       "\n",
       "/* Pipeline and ColumnTransformer style (default) */\n",
       "\n",
       "#sk-container-id-1 div.sk-toggleable {\n",
       "  /* Default theme specific background. It is overwritten whether we have a\n",
       "  specific estimator or a Pipeline/ColumnTransformer */\n",
       "  background-color: var(--sklearn-color-background);\n",
       "}\n",
       "\n",
       "/* Toggleable label */\n",
       "#sk-container-id-1 label.sk-toggleable__label {\n",
       "  cursor: pointer;\n",
       "  display: flex;\n",
       "  width: 100%;\n",
       "  margin-bottom: 0;\n",
       "  padding: 0.5em;\n",
       "  box-sizing: border-box;\n",
       "  text-align: center;\n",
       "  align-items: start;\n",
       "  justify-content: space-between;\n",
       "  gap: 0.5em;\n",
       "}\n",
       "\n",
       "#sk-container-id-1 label.sk-toggleable__label .caption {\n",
       "  font-size: 0.6rem;\n",
       "  font-weight: lighter;\n",
       "  color: var(--sklearn-color-text-muted);\n",
       "}\n",
       "\n",
       "#sk-container-id-1 label.sk-toggleable__label-arrow:before {\n",
       "  /* Arrow on the left of the label */\n",
       "  content: \"▸\";\n",
       "  float: left;\n",
       "  margin-right: 0.25em;\n",
       "  color: var(--sklearn-color-icon);\n",
       "}\n",
       "\n",
       "#sk-container-id-1 label.sk-toggleable__label-arrow:hover:before {\n",
       "  color: var(--sklearn-color-text);\n",
       "}\n",
       "\n",
       "/* Toggleable content - dropdown */\n",
       "\n",
       "#sk-container-id-1 div.sk-toggleable__content {\n",
       "  max-height: 0;\n",
       "  max-width: 0;\n",
       "  overflow: hidden;\n",
       "  text-align: left;\n",
       "  /* unfitted */\n",
       "  background-color: var(--sklearn-color-unfitted-level-0);\n",
       "}\n",
       "\n",
       "#sk-container-id-1 div.sk-toggleable__content.fitted {\n",
       "  /* fitted */\n",
       "  background-color: var(--sklearn-color-fitted-level-0);\n",
       "}\n",
       "\n",
       "#sk-container-id-1 div.sk-toggleable__content pre {\n",
       "  margin: 0.2em;\n",
       "  border-radius: 0.25em;\n",
       "  color: var(--sklearn-color-text);\n",
       "  /* unfitted */\n",
       "  background-color: var(--sklearn-color-unfitted-level-0);\n",
       "}\n",
       "\n",
       "#sk-container-id-1 div.sk-toggleable__content.fitted pre {\n",
       "  /* unfitted */\n",
       "  background-color: var(--sklearn-color-fitted-level-0);\n",
       "}\n",
       "\n",
       "#sk-container-id-1 input.sk-toggleable__control:checked~div.sk-toggleable__content {\n",
       "  /* Expand drop-down */\n",
       "  max-height: 200px;\n",
       "  max-width: 100%;\n",
       "  overflow: auto;\n",
       "}\n",
       "\n",
       "#sk-container-id-1 input.sk-toggleable__control:checked~label.sk-toggleable__label-arrow:before {\n",
       "  content: \"▾\";\n",
       "}\n",
       "\n",
       "/* Pipeline/ColumnTransformer-specific style */\n",
       "\n",
       "#sk-container-id-1 div.sk-label input.sk-toggleable__control:checked~label.sk-toggleable__label {\n",
       "  color: var(--sklearn-color-text);\n",
       "  background-color: var(--sklearn-color-unfitted-level-2);\n",
       "}\n",
       "\n",
       "#sk-container-id-1 div.sk-label.fitted input.sk-toggleable__control:checked~label.sk-toggleable__label {\n",
       "  background-color: var(--sklearn-color-fitted-level-2);\n",
       "}\n",
       "\n",
       "/* Estimator-specific style */\n",
       "\n",
       "/* Colorize estimator box */\n",
       "#sk-container-id-1 div.sk-estimator input.sk-toggleable__control:checked~label.sk-toggleable__label {\n",
       "  /* unfitted */\n",
       "  background-color: var(--sklearn-color-unfitted-level-2);\n",
       "}\n",
       "\n",
       "#sk-container-id-1 div.sk-estimator.fitted input.sk-toggleable__control:checked~label.sk-toggleable__label {\n",
       "  /* fitted */\n",
       "  background-color: var(--sklearn-color-fitted-level-2);\n",
       "}\n",
       "\n",
       "#sk-container-id-1 div.sk-label label.sk-toggleable__label,\n",
       "#sk-container-id-1 div.sk-label label {\n",
       "  /* The background is the default theme color */\n",
       "  color: var(--sklearn-color-text-on-default-background);\n",
       "}\n",
       "\n",
       "/* On hover, darken the color of the background */\n",
       "#sk-container-id-1 div.sk-label:hover label.sk-toggleable__label {\n",
       "  color: var(--sklearn-color-text);\n",
       "  background-color: var(--sklearn-color-unfitted-level-2);\n",
       "}\n",
       "\n",
       "/* Label box, darken color on hover, fitted */\n",
       "#sk-container-id-1 div.sk-label.fitted:hover label.sk-toggleable__label.fitted {\n",
       "  color: var(--sklearn-color-text);\n",
       "  background-color: var(--sklearn-color-fitted-level-2);\n",
       "}\n",
       "\n",
       "/* Estimator label */\n",
       "\n",
       "#sk-container-id-1 div.sk-label label {\n",
       "  font-family: monospace;\n",
       "  font-weight: bold;\n",
       "  display: inline-block;\n",
       "  line-height: 1.2em;\n",
       "}\n",
       "\n",
       "#sk-container-id-1 div.sk-label-container {\n",
       "  text-align: center;\n",
       "}\n",
       "\n",
       "/* Estimator-specific */\n",
       "#sk-container-id-1 div.sk-estimator {\n",
       "  font-family: monospace;\n",
       "  border: 1px dotted var(--sklearn-color-border-box);\n",
       "  border-radius: 0.25em;\n",
       "  box-sizing: border-box;\n",
       "  margin-bottom: 0.5em;\n",
       "  /* unfitted */\n",
       "  background-color: var(--sklearn-color-unfitted-level-0);\n",
       "}\n",
       "\n",
       "#sk-container-id-1 div.sk-estimator.fitted {\n",
       "  /* fitted */\n",
       "  background-color: var(--sklearn-color-fitted-level-0);\n",
       "}\n",
       "\n",
       "/* on hover */\n",
       "#sk-container-id-1 div.sk-estimator:hover {\n",
       "  /* unfitted */\n",
       "  background-color: var(--sklearn-color-unfitted-level-2);\n",
       "}\n",
       "\n",
       "#sk-container-id-1 div.sk-estimator.fitted:hover {\n",
       "  /* fitted */\n",
       "  background-color: var(--sklearn-color-fitted-level-2);\n",
       "}\n",
       "\n",
       "/* Specification for estimator info (e.g. \"i\" and \"?\") */\n",
       "\n",
       "/* Common style for \"i\" and \"?\" */\n",
       "\n",
       ".sk-estimator-doc-link,\n",
       "a:link.sk-estimator-doc-link,\n",
       "a:visited.sk-estimator-doc-link {\n",
       "  float: right;\n",
       "  font-size: smaller;\n",
       "  line-height: 1em;\n",
       "  font-family: monospace;\n",
       "  background-color: var(--sklearn-color-background);\n",
       "  border-radius: 1em;\n",
       "  height: 1em;\n",
       "  width: 1em;\n",
       "  text-decoration: none !important;\n",
       "  margin-left: 0.5em;\n",
       "  text-align: center;\n",
       "  /* unfitted */\n",
       "  border: var(--sklearn-color-unfitted-level-1) 1pt solid;\n",
       "  color: var(--sklearn-color-unfitted-level-1);\n",
       "}\n",
       "\n",
       ".sk-estimator-doc-link.fitted,\n",
       "a:link.sk-estimator-doc-link.fitted,\n",
       "a:visited.sk-estimator-doc-link.fitted {\n",
       "  /* fitted */\n",
       "  border: var(--sklearn-color-fitted-level-1) 1pt solid;\n",
       "  color: var(--sklearn-color-fitted-level-1);\n",
       "}\n",
       "\n",
       "/* On hover */\n",
       "div.sk-estimator:hover .sk-estimator-doc-link:hover,\n",
       ".sk-estimator-doc-link:hover,\n",
       "div.sk-label-container:hover .sk-estimator-doc-link:hover,\n",
       ".sk-estimator-doc-link:hover {\n",
       "  /* unfitted */\n",
       "  background-color: var(--sklearn-color-unfitted-level-3);\n",
       "  color: var(--sklearn-color-background);\n",
       "  text-decoration: none;\n",
       "}\n",
       "\n",
       "div.sk-estimator.fitted:hover .sk-estimator-doc-link.fitted:hover,\n",
       ".sk-estimator-doc-link.fitted:hover,\n",
       "div.sk-label-container:hover .sk-estimator-doc-link.fitted:hover,\n",
       ".sk-estimator-doc-link.fitted:hover {\n",
       "  /* fitted */\n",
       "  background-color: var(--sklearn-color-fitted-level-3);\n",
       "  color: var(--sklearn-color-background);\n",
       "  text-decoration: none;\n",
       "}\n",
       "\n",
       "/* Span, style for the box shown on hovering the info icon */\n",
       ".sk-estimator-doc-link span {\n",
       "  display: none;\n",
       "  z-index: 9999;\n",
       "  position: relative;\n",
       "  font-weight: normal;\n",
       "  right: .2ex;\n",
       "  padding: .5ex;\n",
       "  margin: .5ex;\n",
       "  width: min-content;\n",
       "  min-width: 20ex;\n",
       "  max-width: 50ex;\n",
       "  color: var(--sklearn-color-text);\n",
       "  box-shadow: 2pt 2pt 4pt #999;\n",
       "  /* unfitted */\n",
       "  background: var(--sklearn-color-unfitted-level-0);\n",
       "  border: .5pt solid var(--sklearn-color-unfitted-level-3);\n",
       "}\n",
       "\n",
       ".sk-estimator-doc-link.fitted span {\n",
       "  /* fitted */\n",
       "  background: var(--sklearn-color-fitted-level-0);\n",
       "  border: var(--sklearn-color-fitted-level-3);\n",
       "}\n",
       "\n",
       ".sk-estimator-doc-link:hover span {\n",
       "  display: block;\n",
       "}\n",
       "\n",
       "/* \"?\"-specific style due to the `<a>` HTML tag */\n",
       "\n",
       "#sk-container-id-1 a.estimator_doc_link {\n",
       "  float: right;\n",
       "  font-size: 1rem;\n",
       "  line-height: 1em;\n",
       "  font-family: monospace;\n",
       "  background-color: var(--sklearn-color-background);\n",
       "  border-radius: 1rem;\n",
       "  height: 1rem;\n",
       "  width: 1rem;\n",
       "  text-decoration: none;\n",
       "  /* unfitted */\n",
       "  color: var(--sklearn-color-unfitted-level-1);\n",
       "  border: var(--sklearn-color-unfitted-level-1) 1pt solid;\n",
       "}\n",
       "\n",
       "#sk-container-id-1 a.estimator_doc_link.fitted {\n",
       "  /* fitted */\n",
       "  border: var(--sklearn-color-fitted-level-1) 1pt solid;\n",
       "  color: var(--sklearn-color-fitted-level-1);\n",
       "}\n",
       "\n",
       "/* On hover */\n",
       "#sk-container-id-1 a.estimator_doc_link:hover {\n",
       "  /* unfitted */\n",
       "  background-color: var(--sklearn-color-unfitted-level-3);\n",
       "  color: var(--sklearn-color-background);\n",
       "  text-decoration: none;\n",
       "}\n",
       "\n",
       "#sk-container-id-1 a.estimator_doc_link.fitted:hover {\n",
       "  /* fitted */\n",
       "  background-color: var(--sklearn-color-fitted-level-3);\n",
       "}\n",
       "</style><div id=\"sk-container-id-1\" class=\"sk-top-container\"><div class=\"sk-text-repr-fallback\"><pre>XGBClassifier(base_score=None, booster=None, callbacks=None,\n",
       "              colsample_bylevel=None, colsample_bynode=None,\n",
       "              colsample_bytree=None, device=None, early_stopping_rounds=None,\n",
       "              enable_categorical=False, eval_metric=&#x27;logloss&#x27;,\n",
       "              feature_types=None, feature_weights=None, gamma=None,\n",
       "              grow_policy=None, importance_type=None,\n",
       "              interaction_constraints=None, learning_rate=None, max_bin=None,\n",
       "              max_cat_threshold=None, max_cat_to_onehot=None,\n",
       "              max_delta_step=None, max_depth=None, max_leaves=None,\n",
       "              min_child_weight=None, missing=nan, monotone_constraints=None,\n",
       "              multi_strategy=None, n_estimators=None, n_jobs=None,\n",
       "              num_parallel_tree=None, ...)</pre><b>In a Jupyter environment, please rerun this cell to show the HTML representation or trust the notebook. <br />On GitHub, the HTML representation is unable to render, please try loading this page with nbviewer.org.</b></div><div class=\"sk-container\" hidden><div class=\"sk-item\"><div class=\"sk-estimator fitted sk-toggleable\"><input class=\"sk-toggleable__control sk-hidden--visually\" id=\"sk-estimator-id-1\" type=\"checkbox\" checked><label for=\"sk-estimator-id-1\" class=\"sk-toggleable__label fitted sk-toggleable__label-arrow\"><div><div>XGBClassifier</div></div><div><a class=\"sk-estimator-doc-link fitted\" rel=\"noreferrer\" target=\"_blank\" href=\"https://xgboost.readthedocs.io/en/release_3.0.0/python/python_api.html#xgboost.XGBClassifier\">?<span>Documentation for XGBClassifier</span></a><span class=\"sk-estimator-doc-link fitted\">i<span>Fitted</span></span></div></label><div class=\"sk-toggleable__content fitted\"><pre>XGBClassifier(base_score=None, booster=None, callbacks=None,\n",
       "              colsample_bylevel=None, colsample_bynode=None,\n",
       "              colsample_bytree=None, device=None, early_stopping_rounds=None,\n",
       "              enable_categorical=False, eval_metric=&#x27;logloss&#x27;,\n",
       "              feature_types=None, feature_weights=None, gamma=None,\n",
       "              grow_policy=None, importance_type=None,\n",
       "              interaction_constraints=None, learning_rate=None, max_bin=None,\n",
       "              max_cat_threshold=None, max_cat_to_onehot=None,\n",
       "              max_delta_step=None, max_depth=None, max_leaves=None,\n",
       "              min_child_weight=None, missing=nan, monotone_constraints=None,\n",
       "              multi_strategy=None, n_estimators=None, n_jobs=None,\n",
       "              num_parallel_tree=None, ...)</pre></div> </div></div></div></div>"
      ],
      "text/plain": [
       "XGBClassifier(base_score=None, booster=None, callbacks=None,\n",
       "              colsample_bylevel=None, colsample_bynode=None,\n",
       "              colsample_bytree=None, device=None, early_stopping_rounds=None,\n",
       "              enable_categorical=False, eval_metric='logloss',\n",
       "              feature_types=None, feature_weights=None, gamma=None,\n",
       "              grow_policy=None, importance_type=None,\n",
       "              interaction_constraints=None, learning_rate=None, max_bin=None,\n",
       "              max_cat_threshold=None, max_cat_to_onehot=None,\n",
       "              max_delta_step=None, max_depth=None, max_leaves=None,\n",
       "              min_child_weight=None, missing=nan, monotone_constraints=None,\n",
       "              multi_strategy=None, n_estimators=None, n_jobs=None,\n",
       "              num_parallel_tree=None, ...)"
      ]
     },
     "execution_count": 142,
     "metadata": {},
     "output_type": "execute_result"
    }
   ],
   "source": [
    "xgb_model = XGBClassifier(\n",
    "    scale_pos_weight=1,  # SMOTE sonrası gerekmez\n",
    "    use_label_encoder=False,\n",
    "    eval_metric='logloss',\n",
    "    random_state=42\n",
    ")\n",
    "\n",
    "xgb_model.fit(x_train_smote, y_train_encode)"
   ]
  },
  {
   "cell_type": "code",
   "execution_count": 143,
   "id": "247b0379-fb7c-462c-a737-925785050204",
   "metadata": {},
   "outputs": [],
   "source": [
    "y_pred = xgb_model.predict(x_test)\n",
    "y_proba = xgb_model.predict_proba(x_test)[:, 1] "
   ]
  },
  {
   "cell_type": "code",
   "execution_count": 144,
   "id": "fc9a39df-d2e6-4c27-a288-cba4b2106cba",
   "metadata": {},
   "outputs": [],
   "source": [
    "y_test_encode = le.fit_transform(y_test)\n",
    "y_pred_encode = xgb_model.predict(x_test)"
   ]
  },
  {
   "cell_type": "code",
   "execution_count": 145,
   "id": "710148e3-884f-4e53-8ac7-b571a6588b06",
   "metadata": {},
   "outputs": [
    {
     "data": {
      "text/plain": [
       "0.7825"
      ]
     },
     "execution_count": 145,
     "metadata": {},
     "output_type": "execute_result"
    }
   ],
   "source": [
    "accuracy_score(y_test_encode,y_pred) "
   ]
  },
  {
   "cell_type": "code",
   "execution_count": 146,
   "id": "243c10f3-2c6d-4705-bde8-614feed963c1",
   "metadata": {},
   "outputs": [
    {
     "data": {
      "text/plain": [
       "np.float64(0.784)"
      ]
     },
     "execution_count": 146,
     "metadata": {},
     "output_type": "execute_result"
    }
   ],
   "source": [
    "cross_val_score(xgb_model , x_test, y_test_encode, cv = 10).mean()"
   ]
  },
  {
   "cell_type": "code",
   "execution_count": 147,
   "id": "f368fbd7-022b-4d06-ae9c-e51ff308376b",
   "metadata": {},
   "outputs": [
    {
     "name": "stdout",
     "output_type": "stream",
     "text": [
      "              precision    recall  f1-score   support\n",
      "\n",
      "           0       0.80      0.97      0.88      1613\n",
      "           1       0.10      0.02      0.03       387\n",
      "\n",
      "    accuracy                           0.78      2000\n",
      "   macro avg       0.45      0.49      0.45      2000\n",
      "weighted avg       0.67      0.78      0.71      2000\n",
      "\n"
     ]
    }
   ],
   "source": [
    "print(classification_report(y_test_encode,y_pred))"
   ]
  },
  {
   "cell_type": "markdown",
   "id": "a4718991-327c-4277-805b-f1bf9f511355",
   "metadata": {},
   "source": [
    "### ROC Curve and Confusion Matrix X"
   ]
  },
  {
   "cell_type": "code",
   "execution_count": 148,
   "id": "f7271272-9fc3-4188-b7da-d1e8247bb2d8",
   "metadata": {},
   "outputs": [
    {
     "data": {
      "text/plain": [
       "array([[1559,   54],\n",
       "       [ 381,    6]])"
      ]
     },
     "execution_count": 148,
     "metadata": {},
     "output_type": "execute_result"
    }
   ],
   "source": [
    "confusion_matrix(y_test_encode,y_pred)"
   ]
  },
  {
   "cell_type": "code",
   "execution_count": 150,
   "id": "e98181b5-d061-4ddb-938d-6e8c330ac27c",
   "metadata": {},
   "outputs": [
    {
     "data": {
      "image/png": "[encoded data removed]",
      "text/plain": [
       "<Figure size 640x480 with 1 Axes>"
      ]
     },
     "metadata": {},
     "output_type": "display_data"
    }
   ],
   "source": [
    "Xgb_roc_auc = roc_auc_score(y_test_encode, y_pred_encode)\n",
    "\n",
    "fpr, tpr, thresholds = roc_curve(y_test_encode, xgb_model.predict_proba(x_test)[:,1])\n",
    "\n",
    "plt.figure()\n",
    "plt.plot(fpr, tpr, label = \"AUC (area = %0.2f)\" % Xgb_roc_auc)\n",
    "plt.plot([0,1], [0,1], \"r--\")\n",
    "plt.xlim([0.0,1.0])\n",
    "plt.ylim([0.0,1.05])\n",
    "plt.xlabel(\"False Positive Rate\")\n",
    "plt.ylabel(\"True Positive Rate\")\n",
    "plt.title(\"ROC Curve\")\n",
    "plt.legend(loc=\"lower right\")\n",
    "plt.show()"
   ]
  },
  {
   "cell_type": "markdown",
   "id": "b68007c9-a753-4efe-9655-5d78effef82b",
   "metadata": {},
   "source": [
    "## Conculision"
   ]
  },
  {
   "cell_type": "markdown",
   "id": "3e213ba4-7632-4dd6-b62c-6a5a2b5dcac1",
   "metadata": {},
   "source": [
    "- Despite being one of the most powerful ensemble methods, XGBoost did not perform as expected in our dataset. Although it showed decent accuracy (77.95%) and cross-validation score (78.45%), the ROC AUC score (0.50) clearly indicated that the model fails to differentiate between classes better than random chance.\n",
    "- Thus, although XGBoost is theoretically a strong model, in this context, it struggled due to class imbalance and possibly insufficient feature signal strength"
   ]
  },
  {
   "cell_type": "code",
   "execution_count": null,
   "id": "6ca18b62-72e9-4c56-99d3-e8b246399e67",
   "metadata": {},
   "outputs": [],
   "source": []
  }
 ],
 "metadata": {
  "kernelspec": {
   "display_name": "Python 3 (ipykernel)",
   "language": "python",
   "name": "python3"
  },
  "language_info": {
   "codemirror_mode": {
    "name": "ipython",
    "version": 3
   },
   "file_extension": ".py",
   "mimetype": "text/x-python",
   "name": "python",
   "nbconvert_exporter": "python",
   "pygments_lexer": "ipython3",
   "version": "3.13.1"
  }
 },
 "nbformat": 4,
 "nbformat_minor": 5
}
